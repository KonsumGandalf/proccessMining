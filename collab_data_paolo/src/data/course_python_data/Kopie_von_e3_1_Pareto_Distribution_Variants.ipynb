{
  "nbformat": 4,
  "nbformat_minor": 0,
  "metadata": {
    "colab": {
      "name": "Kopie von e3.1.Pareto_Distribution_Variants.ipynb",
      "provenance": [],
      "collapsed_sections": [],
      "include_colab_link": true
    },
    "kernelspec": {
      "name": "python3",
      "display_name": "Python 3"
    },
    "language_info": {
      "name": "python"
    }
  },
  "cells": [
    {
      "cell_type": "markdown",
      "metadata": {
        "id": "view-in-github",
        "colab_type": "text"
      },
      "source": [
        "<a href=\"https://colab.research.google.com/github/KonsumGandalf/proccessMining/blob/colab/proccessMining/src/data/course_python_data/Kopie_von_e3_1_Pareto_Distribution_Variants.ipynb\" target=\"_parent\"><img src=\"https://colab.research.google.com/assets/colab-badge.svg\" alt=\"Open In Colab\"/></a>"
      ]
    },
    {
      "cell_type": "code",
      "metadata": {
        "colab": {
          "base_uri": "https://localhost:8080/"
        },
        "id": "maFwGOPWwkiE",
        "outputId": "0b4145c7-4246-47f6-c55c-ead2ad903434"
      },
      "source": [
        "%pip install pm4py"
      ],
      "execution_count": 1,
      "outputs": [
        {
          "output_type": "stream",
          "name": "stdout",
          "text": [
            "Collecting pm4py\n",
            "  Downloading pm4py-2.2.18-py3-none-any.whl (1.7 MB)\n",
            "\u001b[?25l\r\u001b[K     |▏                               | 10 kB 34.1 MB/s eta 0:00:01\r\u001b[K     |▍                               | 20 kB 25.2 MB/s eta 0:00:01\r\u001b[K     |▋                               | 30 kB 12.7 MB/s eta 0:00:01\r\u001b[K     |▊                               | 40 kB 10.1 MB/s eta 0:00:01\r\u001b[K     |█                               | 51 kB 7.0 MB/s eta 0:00:01\r\u001b[K     |█▏                              | 61 kB 7.1 MB/s eta 0:00:01\r\u001b[K     |█▎                              | 71 kB 7.5 MB/s eta 0:00:01\r\u001b[K     |█▌                              | 81 kB 8.4 MB/s eta 0:00:01\r\u001b[K     |█▊                              | 92 kB 7.8 MB/s eta 0:00:01\r\u001b[K     |█▉                              | 102 kB 6.8 MB/s eta 0:00:01\r\u001b[K     |██                              | 112 kB 6.8 MB/s eta 0:00:01\r\u001b[K     |██▎                             | 122 kB 6.8 MB/s eta 0:00:01\r\u001b[K     |██▍                             | 133 kB 6.8 MB/s eta 0:00:01\r\u001b[K     |██▋                             | 143 kB 6.8 MB/s eta 0:00:01\r\u001b[K     |██▉                             | 153 kB 6.8 MB/s eta 0:00:01\r\u001b[K     |███                             | 163 kB 6.8 MB/s eta 0:00:01\r\u001b[K     |███▏                            | 174 kB 6.8 MB/s eta 0:00:01\r\u001b[K     |███▍                            | 184 kB 6.8 MB/s eta 0:00:01\r\u001b[K     |███▋                            | 194 kB 6.8 MB/s eta 0:00:01\r\u001b[K     |███▊                            | 204 kB 6.8 MB/s eta 0:00:01\r\u001b[K     |████                            | 215 kB 6.8 MB/s eta 0:00:01\r\u001b[K     |████▏                           | 225 kB 6.8 MB/s eta 0:00:01\r\u001b[K     |████▎                           | 235 kB 6.8 MB/s eta 0:00:01\r\u001b[K     |████▌                           | 245 kB 6.8 MB/s eta 0:00:01\r\u001b[K     |████▊                           | 256 kB 6.8 MB/s eta 0:00:01\r\u001b[K     |████▉                           | 266 kB 6.8 MB/s eta 0:00:01\r\u001b[K     |█████                           | 276 kB 6.8 MB/s eta 0:00:01\r\u001b[K     |█████▎                          | 286 kB 6.8 MB/s eta 0:00:01\r\u001b[K     |█████▌                          | 296 kB 6.8 MB/s eta 0:00:01\r\u001b[K     |█████▋                          | 307 kB 6.8 MB/s eta 0:00:01\r\u001b[K     |█████▉                          | 317 kB 6.8 MB/s eta 0:00:01\r\u001b[K     |██████                          | 327 kB 6.8 MB/s eta 0:00:01\r\u001b[K     |██████▏                         | 337 kB 6.8 MB/s eta 0:00:01\r\u001b[K     |██████▍                         | 348 kB 6.8 MB/s eta 0:00:01\r\u001b[K     |██████▋                         | 358 kB 6.8 MB/s eta 0:00:01\r\u001b[K     |██████▊                         | 368 kB 6.8 MB/s eta 0:00:01\r\u001b[K     |███████                         | 378 kB 6.8 MB/s eta 0:00:01\r\u001b[K     |███████▏                        | 389 kB 6.8 MB/s eta 0:00:01\r\u001b[K     |███████▎                        | 399 kB 6.8 MB/s eta 0:00:01\r\u001b[K     |███████▌                        | 409 kB 6.8 MB/s eta 0:00:01\r\u001b[K     |███████▊                        | 419 kB 6.8 MB/s eta 0:00:01\r\u001b[K     |████████                        | 430 kB 6.8 MB/s eta 0:00:01\r\u001b[K     |████████                        | 440 kB 6.8 MB/s eta 0:00:01\r\u001b[K     |████████▎                       | 450 kB 6.8 MB/s eta 0:00:01\r\u001b[K     |████████▌                       | 460 kB 6.8 MB/s eta 0:00:01\r\u001b[K     |████████▋                       | 471 kB 6.8 MB/s eta 0:00:01\r\u001b[K     |████████▉                       | 481 kB 6.8 MB/s eta 0:00:01\r\u001b[K     |█████████                       | 491 kB 6.8 MB/s eta 0:00:01\r\u001b[K     |█████████▏                      | 501 kB 6.8 MB/s eta 0:00:01\r\u001b[K     |█████████▍                      | 512 kB 6.8 MB/s eta 0:00:01\r\u001b[K     |█████████▋                      | 522 kB 6.8 MB/s eta 0:00:01\r\u001b[K     |█████████▊                      | 532 kB 6.8 MB/s eta 0:00:01\r\u001b[K     |██████████                      | 542 kB 6.8 MB/s eta 0:00:01\r\u001b[K     |██████████▏                     | 552 kB 6.8 MB/s eta 0:00:01\r\u001b[K     |██████████▍                     | 563 kB 6.8 MB/s eta 0:00:01\r\u001b[K     |██████████▌                     | 573 kB 6.8 MB/s eta 0:00:01\r\u001b[K     |██████████▊                     | 583 kB 6.8 MB/s eta 0:00:01\r\u001b[K     |███████████                     | 593 kB 6.8 MB/s eta 0:00:01\r\u001b[K     |███████████                     | 604 kB 6.8 MB/s eta 0:00:01\r\u001b[K     |███████████▎                    | 614 kB 6.8 MB/s eta 0:00:01\r\u001b[K     |███████████▌                    | 624 kB 6.8 MB/s eta 0:00:01\r\u001b[K     |███████████▋                    | 634 kB 6.8 MB/s eta 0:00:01\r\u001b[K     |███████████▉                    | 645 kB 6.8 MB/s eta 0:00:01\r\u001b[K     |████████████                    | 655 kB 6.8 MB/s eta 0:00:01\r\u001b[K     |████████████▏                   | 665 kB 6.8 MB/s eta 0:00:01\r\u001b[K     |████████████▍                   | 675 kB 6.8 MB/s eta 0:00:01\r\u001b[K     |████████████▋                   | 686 kB 6.8 MB/s eta 0:00:01\r\u001b[K     |████████████▉                   | 696 kB 6.8 MB/s eta 0:00:01\r\u001b[K     |█████████████                   | 706 kB 6.8 MB/s eta 0:00:01\r\u001b[K     |█████████████▏                  | 716 kB 6.8 MB/s eta 0:00:01\r\u001b[K     |█████████████▍                  | 727 kB 6.8 MB/s eta 0:00:01\r\u001b[K     |█████████████▌                  | 737 kB 6.8 MB/s eta 0:00:01\r\u001b[K     |█████████████▊                  | 747 kB 6.8 MB/s eta 0:00:01\r\u001b[K     |██████████████                  | 757 kB 6.8 MB/s eta 0:00:01\r\u001b[K     |██████████████                  | 768 kB 6.8 MB/s eta 0:00:01\r\u001b[K     |██████████████▎                 | 778 kB 6.8 MB/s eta 0:00:01\r\u001b[K     |██████████████▌                 | 788 kB 6.8 MB/s eta 0:00:01\r\u001b[K     |██████████████▋                 | 798 kB 6.8 MB/s eta 0:00:01\r\u001b[K     |██████████████▉                 | 808 kB 6.8 MB/s eta 0:00:01\r\u001b[K     |███████████████                 | 819 kB 6.8 MB/s eta 0:00:01\r\u001b[K     |███████████████▎                | 829 kB 6.8 MB/s eta 0:00:01\r\u001b[K     |███████████████▍                | 839 kB 6.8 MB/s eta 0:00:01\r\u001b[K     |███████████████▋                | 849 kB 6.8 MB/s eta 0:00:01\r\u001b[K     |███████████████▉                | 860 kB 6.8 MB/s eta 0:00:01\r\u001b[K     |████████████████                | 870 kB 6.8 MB/s eta 0:00:01\r\u001b[K     |████████████████▏               | 880 kB 6.8 MB/s eta 0:00:01\r\u001b[K     |████████████████▍               | 890 kB 6.8 MB/s eta 0:00:01\r\u001b[K     |████████████████▌               | 901 kB 6.8 MB/s eta 0:00:01\r\u001b[K     |████████████████▊               | 911 kB 6.8 MB/s eta 0:00:01\r\u001b[K     |█████████████████               | 921 kB 6.8 MB/s eta 0:00:01\r\u001b[K     |█████████████████               | 931 kB 6.8 MB/s eta 0:00:01\r\u001b[K     |█████████████████▎              | 942 kB 6.8 MB/s eta 0:00:01\r\u001b[K     |█████████████████▌              | 952 kB 6.8 MB/s eta 0:00:01\r\u001b[K     |█████████████████▊              | 962 kB 6.8 MB/s eta 0:00:01\r\u001b[K     |█████████████████▉              | 972 kB 6.8 MB/s eta 0:00:01\r\u001b[K     |██████████████████              | 983 kB 6.8 MB/s eta 0:00:01\r\u001b[K     |██████████████████▎             | 993 kB 6.8 MB/s eta 0:00:01\r\u001b[K     |██████████████████▍             | 1.0 MB 6.8 MB/s eta 0:00:01\r\u001b[K     |██████████████████▋             | 1.0 MB 6.8 MB/s eta 0:00:01\r\u001b[K     |██████████████████▉             | 1.0 MB 6.8 MB/s eta 0:00:01\r\u001b[K     |███████████████████             | 1.0 MB 6.8 MB/s eta 0:00:01\r\u001b[K     |███████████████████▏            | 1.0 MB 6.8 MB/s eta 0:00:01\r\u001b[K     |███████████████████▍            | 1.1 MB 6.8 MB/s eta 0:00:01\r\u001b[K     |███████████████████▌            | 1.1 MB 6.8 MB/s eta 0:00:01\r\u001b[K     |███████████████████▊            | 1.1 MB 6.8 MB/s eta 0:00:01\r\u001b[K     |████████████████████            | 1.1 MB 6.8 MB/s eta 0:00:01\r\u001b[K     |████████████████████            | 1.1 MB 6.8 MB/s eta 0:00:01\r\u001b[K     |████████████████████▎           | 1.1 MB 6.8 MB/s eta 0:00:01\r\u001b[K     |████████████████████▌           | 1.1 MB 6.8 MB/s eta 0:00:01\r\u001b[K     |████████████████████▊           | 1.1 MB 6.8 MB/s eta 0:00:01\r\u001b[K     |████████████████████▉           | 1.1 MB 6.8 MB/s eta 0:00:01\r\u001b[K     |█████████████████████           | 1.1 MB 6.8 MB/s eta 0:00:01\r\u001b[K     |█████████████████████▎          | 1.2 MB 6.8 MB/s eta 0:00:01\r\u001b[K     |█████████████████████▍          | 1.2 MB 6.8 MB/s eta 0:00:01\r\u001b[K     |█████████████████████▋          | 1.2 MB 6.8 MB/s eta 0:00:01\r\u001b[K     |█████████████████████▉          | 1.2 MB 6.8 MB/s eta 0:00:01\r\u001b[K     |██████████████████████          | 1.2 MB 6.8 MB/s eta 0:00:01\r\u001b[K     |██████████████████████▏         | 1.2 MB 6.8 MB/s eta 0:00:01\r\u001b[K     |██████████████████████▍         | 1.2 MB 6.8 MB/s eta 0:00:01\r\u001b[K     |██████████████████████▌         | 1.2 MB 6.8 MB/s eta 0:00:01\r\u001b[K     |██████████████████████▊         | 1.2 MB 6.8 MB/s eta 0:00:01\r\u001b[K     |███████████████████████         | 1.2 MB 6.8 MB/s eta 0:00:01\r\u001b[K     |███████████████████████▏        | 1.3 MB 6.8 MB/s eta 0:00:01\r\u001b[K     |███████████████████████▎        | 1.3 MB 6.8 MB/s eta 0:00:01\r\u001b[K     |███████████████████████▌        | 1.3 MB 6.8 MB/s eta 0:00:01\r\u001b[K     |███████████████████████▊        | 1.3 MB 6.8 MB/s eta 0:00:01\r\u001b[K     |███████████████████████▉        | 1.3 MB 6.8 MB/s eta 0:00:01\r\u001b[K     |████████████████████████        | 1.3 MB 6.8 MB/s eta 0:00:01\r\u001b[K     |████████████████████████▎       | 1.3 MB 6.8 MB/s eta 0:00:01\r\u001b[K     |████████████████████████▍       | 1.3 MB 6.8 MB/s eta 0:00:01\r\u001b[K     |████████████████████████▋       | 1.3 MB 6.8 MB/s eta 0:00:01\r\u001b[K     |████████████████████████▉       | 1.4 MB 6.8 MB/s eta 0:00:01\r\u001b[K     |█████████████████████████       | 1.4 MB 6.8 MB/s eta 0:00:01\r\u001b[K     |█████████████████████████▏      | 1.4 MB 6.8 MB/s eta 0:00:01\r\u001b[K     |█████████████████████████▍      | 1.4 MB 6.8 MB/s eta 0:00:01\r\u001b[K     |█████████████████████████▋      | 1.4 MB 6.8 MB/s eta 0:00:01\r\u001b[K     |█████████████████████████▊      | 1.4 MB 6.8 MB/s eta 0:00:01\r\u001b[K     |██████████████████████████      | 1.4 MB 6.8 MB/s eta 0:00:01\r\u001b[K     |██████████████████████████▏     | 1.4 MB 6.8 MB/s eta 0:00:01\r\u001b[K     |██████████████████████████▎     | 1.4 MB 6.8 MB/s eta 0:00:01\r\u001b[K     |██████████████████████████▌     | 1.4 MB 6.8 MB/s eta 0:00:01\r\u001b[K     |██████████████████████████▊     | 1.5 MB 6.8 MB/s eta 0:00:01\r\u001b[K     |██████████████████████████▉     | 1.5 MB 6.8 MB/s eta 0:00:01\r\u001b[K     |███████████████████████████     | 1.5 MB 6.8 MB/s eta 0:00:01\r\u001b[K     |███████████████████████████▎    | 1.5 MB 6.8 MB/s eta 0:00:01\r\u001b[K     |███████████████████████████▍    | 1.5 MB 6.8 MB/s eta 0:00:01\r\u001b[K     |███████████████████████████▋    | 1.5 MB 6.8 MB/s eta 0:00:01\r\u001b[K     |███████████████████████████▉    | 1.5 MB 6.8 MB/s eta 0:00:01\r\u001b[K     |████████████████████████████    | 1.5 MB 6.8 MB/s eta 0:00:01\r\u001b[K     |████████████████████████████▏   | 1.5 MB 6.8 MB/s eta 0:00:01\r\u001b[K     |████████████████████████████▍   | 1.5 MB 6.8 MB/s eta 0:00:01\r\u001b[K     |████████████████████████████▋   | 1.6 MB 6.8 MB/s eta 0:00:01\r\u001b[K     |████████████████████████████▊   | 1.6 MB 6.8 MB/s eta 0:00:01\r\u001b[K     |█████████████████████████████   | 1.6 MB 6.8 MB/s eta 0:00:01\r\u001b[K     |█████████████████████████████▏  | 1.6 MB 6.8 MB/s eta 0:00:01\r\u001b[K     |█████████████████████████████▎  | 1.6 MB 6.8 MB/s eta 0:00:01\r\u001b[K     |█████████████████████████████▌  | 1.6 MB 6.8 MB/s eta 0:00:01\r\u001b[K     |█████████████████████████████▊  | 1.6 MB 6.8 MB/s eta 0:00:01\r\u001b[K     |█████████████████████████████▉  | 1.6 MB 6.8 MB/s eta 0:00:01\r\u001b[K     |██████████████████████████████  | 1.6 MB 6.8 MB/s eta 0:00:01\r\u001b[K     |██████████████████████████████▎ | 1.6 MB 6.8 MB/s eta 0:00:01\r\u001b[K     |██████████████████████████████▌ | 1.7 MB 6.8 MB/s eta 0:00:01\r\u001b[K     |██████████████████████████████▋ | 1.7 MB 6.8 MB/s eta 0:00:01\r\u001b[K     |██████████████████████████████▉ | 1.7 MB 6.8 MB/s eta 0:00:01\r\u001b[K     |███████████████████████████████ | 1.7 MB 6.8 MB/s eta 0:00:01\r\u001b[K     |███████████████████████████████▏| 1.7 MB 6.8 MB/s eta 0:00:01\r\u001b[K     |███████████████████████████████▍| 1.7 MB 6.8 MB/s eta 0:00:01\r\u001b[K     |███████████████████████████████▋| 1.7 MB 6.8 MB/s eta 0:00:01\r\u001b[K     |███████████████████████████████▊| 1.7 MB 6.8 MB/s eta 0:00:01\r\u001b[K     |████████████████████████████████| 1.7 MB 6.8 MB/s eta 0:00:01\r\u001b[K     |████████████████████████████████| 1.7 MB 6.8 MB/s \n",
            "\u001b[?25hRequirement already satisfied: graphviz in /usr/local/lib/python3.7/dist-packages (from pm4py) (0.10.1)\n",
            "Requirement already satisfied: pydotplus in /usr/local/lib/python3.7/dist-packages (from pm4py) (2.0.2)\n",
            "Collecting workalendar\n",
            "  Downloading workalendar-16.2.0-py3-none-any.whl (205 kB)\n",
            "\u001b[K     |████████████████████████████████| 205 kB 75.4 MB/s \n",
            "\u001b[?25hCollecting deprecation\n",
            "  Downloading deprecation-2.1.0-py2.py3-none-any.whl (11 kB)\n",
            "Requirement already satisfied: scipy in /usr/local/lib/python3.7/dist-packages (from pm4py) (1.4.1)\n",
            "Requirement already satisfied: tqdm in /usr/local/lib/python3.7/dist-packages (from pm4py) (4.62.3)\n",
            "Collecting stringdist\n",
            "  Downloading StringDist-1.0.9.tar.gz (7.4 kB)\n",
            "Requirement already satisfied: pandas>=1.1.5 in /usr/local/lib/python3.7/dist-packages (from pm4py) (1.1.5)\n",
            "Requirement already satisfied: intervaltree in /usr/local/lib/python3.7/dist-packages (from pm4py) (2.1.0)\n",
            "Collecting pyvis\n",
            "  Downloading pyvis-0.1.9-py3-none-any.whl (23 kB)\n",
            "Collecting jsonpickle\n",
            "  Downloading jsonpickle-2.0.0-py2.py3-none-any.whl (37 kB)\n",
            "Requirement already satisfied: pytz in /usr/local/lib/python3.7/dist-packages (from pm4py) (2018.9)\n",
            "Requirement already satisfied: sympy in /usr/local/lib/python3.7/dist-packages (from pm4py) (1.7.1)\n",
            "Requirement already satisfied: cvxopt in /usr/local/lib/python3.7/dist-packages (from pm4py) (1.2.7)\n",
            "Requirement already satisfied: scikit-learn in /usr/local/lib/python3.7/dist-packages (from pm4py) (1.0.2)\n",
            "Requirement already satisfied: networkx in /usr/local/lib/python3.7/dist-packages (from pm4py) (2.6.3)\n",
            "Requirement already satisfied: numpy>=1.19.5 in /usr/local/lib/python3.7/dist-packages (from pm4py) (1.19.5)\n",
            "Requirement already satisfied: lxml in /usr/local/lib/python3.7/dist-packages (from pm4py) (4.2.6)\n",
            "Requirement already satisfied: matplotlib in /usr/local/lib/python3.7/dist-packages (from pm4py) (3.2.2)\n",
            "Requirement already satisfied: python-dateutil>=2.7.3 in /usr/local/lib/python3.7/dist-packages (from pandas>=1.1.5->pm4py) (2.8.2)\n",
            "Requirement already satisfied: six>=1.5 in /usr/local/lib/python3.7/dist-packages (from python-dateutil>=2.7.3->pandas>=1.1.5->pm4py) (1.15.0)\n",
            "Requirement already satisfied: packaging in /usr/local/lib/python3.7/dist-packages (from deprecation->pm4py) (21.3)\n",
            "Requirement already satisfied: sortedcontainers in /usr/local/lib/python3.7/dist-packages (from intervaltree->pm4py) (2.4.0)\n",
            "Requirement already satisfied: importlib-metadata in /usr/local/lib/python3.7/dist-packages (from jsonpickle->pm4py) (4.10.0)\n",
            "Requirement already satisfied: zipp>=0.5 in /usr/local/lib/python3.7/dist-packages (from importlib-metadata->jsonpickle->pm4py) (3.7.0)\n",
            "Requirement already satisfied: typing-extensions>=3.6.4 in /usr/local/lib/python3.7/dist-packages (from importlib-metadata->jsonpickle->pm4py) (3.10.0.2)\n",
            "Requirement already satisfied: kiwisolver>=1.0.1 in /usr/local/lib/python3.7/dist-packages (from matplotlib->pm4py) (1.3.2)\n",
            "Requirement already satisfied: cycler>=0.10 in /usr/local/lib/python3.7/dist-packages (from matplotlib->pm4py) (0.11.0)\n",
            "Requirement already satisfied: pyparsing!=2.0.4,!=2.1.2,!=2.1.6,>=2.0.1 in /usr/local/lib/python3.7/dist-packages (from matplotlib->pm4py) (3.0.6)\n",
            "Requirement already satisfied: jinja2>=2.9.6 in /usr/local/lib/python3.7/dist-packages (from pyvis->pm4py) (2.11.3)\n",
            "Requirement already satisfied: ipython>=5.3.0 in /usr/local/lib/python3.7/dist-packages (from pyvis->pm4py) (5.5.0)\n",
            "Requirement already satisfied: simplegeneric>0.8 in /usr/local/lib/python3.7/dist-packages (from ipython>=5.3.0->pyvis->pm4py) (0.8.1)\n",
            "Requirement already satisfied: setuptools>=18.5 in /usr/local/lib/python3.7/dist-packages (from ipython>=5.3.0->pyvis->pm4py) (57.4.0)\n",
            "Requirement already satisfied: prompt-toolkit<2.0.0,>=1.0.4 in /usr/local/lib/python3.7/dist-packages (from ipython>=5.3.0->pyvis->pm4py) (1.0.18)\n",
            "Requirement already satisfied: pygments in /usr/local/lib/python3.7/dist-packages (from ipython>=5.3.0->pyvis->pm4py) (2.6.1)\n",
            "Requirement already satisfied: pickleshare in /usr/local/lib/python3.7/dist-packages (from ipython>=5.3.0->pyvis->pm4py) (0.7.5)\n",
            "Requirement already satisfied: decorator in /usr/local/lib/python3.7/dist-packages (from ipython>=5.3.0->pyvis->pm4py) (4.4.2)\n",
            "Requirement already satisfied: pexpect in /usr/local/lib/python3.7/dist-packages (from ipython>=5.3.0->pyvis->pm4py) (4.8.0)\n",
            "Requirement already satisfied: traitlets>=4.2 in /usr/local/lib/python3.7/dist-packages (from ipython>=5.3.0->pyvis->pm4py) (5.1.1)\n",
            "Requirement already satisfied: MarkupSafe>=0.23 in /usr/local/lib/python3.7/dist-packages (from jinja2>=2.9.6->pyvis->pm4py) (2.0.1)\n",
            "Requirement already satisfied: wcwidth in /usr/local/lib/python3.7/dist-packages (from prompt-toolkit<2.0.0,>=1.0.4->ipython>=5.3.0->pyvis->pm4py) (0.2.5)\n",
            "Requirement already satisfied: ptyprocess>=0.5 in /usr/local/lib/python3.7/dist-packages (from pexpect->ipython>=5.3.0->pyvis->pm4py) (0.7.0)\n",
            "Requirement already satisfied: joblib>=0.11 in /usr/local/lib/python3.7/dist-packages (from scikit-learn->pm4py) (1.1.0)\n",
            "Requirement already satisfied: threadpoolctl>=2.0.0 in /usr/local/lib/python3.7/dist-packages (from scikit-learn->pm4py) (3.0.0)\n",
            "Requirement already satisfied: mpmath>=0.19 in /usr/local/lib/python3.7/dist-packages (from sympy->pm4py) (1.2.1)\n",
            "Collecting lunardate\n",
            "  Downloading lunardate-0.2.0-py3-none-any.whl (5.6 kB)\n",
            "Collecting pyluach\n",
            "  Downloading pyluach-1.3.0-py3-none-any.whl (17 kB)\n",
            "Collecting backports.zoneinfo\n",
            "  Downloading backports.zoneinfo-0.2.1-cp37-cp37m-manylinux1_x86_64.whl (70 kB)\n",
            "\u001b[K     |████████████████████████████████| 70 kB 11.1 MB/s \n",
            "\u001b[?25hRequirement already satisfied: convertdate in /usr/local/lib/python3.7/dist-packages (from workalendar->pm4py) (2.3.2)\n",
            "Requirement already satisfied: pymeeus<=1,>=0.3.13 in /usr/local/lib/python3.7/dist-packages (from convertdate->workalendar->pm4py) (0.5.11)\n",
            "Building wheels for collected packages: stringdist\n",
            "  Building wheel for stringdist (setup.py) ... \u001b[?25l\u001b[?25hdone\n",
            "  Created wheel for stringdist: filename=StringDist-1.0.9-cp37-cp37m-linux_x86_64.whl size=23588 sha256=607e33bf657515cb2fde93747db1c1cad2c0ed56cd72d4db25abf61b258b8fce\n",
            "  Stored in directory: /root/.cache/pip/wheels/d7/9c/d4/63bc3d8931de0980b9e4a724dea290bb40b8b1b2bd6227c8da\n",
            "Successfully built stringdist\n",
            "Installing collected packages: pyluach, lunardate, jsonpickle, backports.zoneinfo, workalendar, stringdist, pyvis, deprecation, pm4py\n",
            "Successfully installed backports.zoneinfo-0.2.1 deprecation-2.1.0 jsonpickle-2.0.0 lunardate-0.2.0 pm4py-2.2.18 pyluach-1.3.0 pyvis-0.1.9 stringdist-1.0.9 workalendar-16.2.0\n"
          ]
        }
      ]
    },
    {
      "cell_type": "code",
      "metadata": {
        "id": "Vhj5811Tw2iF"
      },
      "source": [
        "import pandas as pd\n",
        "import numpy as np\n",
        "import matplotlib.pyplot as plt\n",
        "import math\n",
        "from scipy.stats import pareto\n",
        "\n",
        "import pm4py\n",
        "from pm4py.objects.log.util import dataframe_utils\n",
        "from pm4py.objects.conversion.log import converter as log_converter\n"
      ],
      "execution_count": 2,
      "outputs": []
    },
    {
      "cell_type": "code",
      "metadata": {
        "id": "aUd_b5tWK-tH"
      },
      "source": [
        "# Create a function to convert a string into a list\n",
        "# used for converting the string of activites describing a variant into a list of activities\n",
        "def String2List(string,separ):\n",
        "    li = list(string.split(separ))\n",
        "    return li"
      ],
      "execution_count": 3,
      "outputs": []
    },
    {
      "cell_type": "code",
      "metadata": {
        "id": "tsnvahHrxWiv",
        "colab": {
          "base_uri": "https://localhost:8080/"
        },
        "outputId": "cc2df312-b101-46ec-9605-2a75e7012f0a"
      },
      "source": [
        "# Load Event Log file in CSV\n",
        "\n",
        "log_csv = pd.read_csv('https://raw.githubusercontent.com/paoloceravolo/PM-Regensburg/main/CallCenterLog.csv', sep=',')\n",
        "log_csv = dataframe_utils.convert_timestamp_columns_in_df(log_csv)\n",
        "\n",
        "log_csv = log_csv.sort_values('Start Date')\n",
        "\n",
        "log_csv.rename(columns={'Case ID': 'case:concept:name', 'Start Date': 'start_timestamp', 'End Date': 'time:timestamp', 'Activity': 'concept:name', 'Resource': 'org:resource'}, inplace=True) #change the name to a colum\n",
        "parameters = {log_converter.Variants.TO_EVENT_LOG.value.Parameters.CASE_ID_KEY: 'case:concept:name'} # identify the case_id_key name (if not change it will simply be the mane of the coloumn)\n",
        "\n",
        "# Convert the dataframe to an event log dictionary \n",
        "\n",
        "event_log = log_converter.apply(log_csv, parameters=parameters, variant=log_converter.Variants.TO_EVENT_LOG)\n",
        "\n",
        " # first case first event\n",
        "print(event_log[0][0])\n"
      ],
      "execution_count": 4,
      "outputs": [
        {
          "output_type": "stream",
          "name": "stdout",
          "text": [
            "{'concept:name': 'Inbound Email', 'start_timestamp': Timestamp('2010-01-03 01:05:00+0000', tz='UTC'), 'time:timestamp': Timestamp('2010-04-03 08:24:00+0000', tz='UTC'), 'Agent Position': 'FL', 'Customer ID': 'Customer 1878', 'Topic': 'Queries', 'Service Type': 'Product Assistance', 'org:resource': 'Samuil'}\n"
          ]
        }
      ]
    },
    {
      "cell_type": "code",
      "metadata": {
        "colab": {
          "base_uri": "https://localhost:8080/"
        },
        "id": "NfI-Z51UxWkh",
        "outputId": "be4bc9d1-42af-470a-edda-b4658cdcbef6"
      },
      "source": [
        "# Extract the variants from an event log\n",
        "\n",
        "from pm4py.algo.filtering.log.variants import variants_filter\n",
        "variants = variants_filter.get_variants(event_log)\n",
        "\n",
        "# Count the cases per varaint \n",
        "\n",
        "from pm4py.statistics.traces.generic.log import case_statistics\n",
        "variants_count = case_statistics.get_variant_statistics(event_log)\n",
        "variants_count = sorted(variants_count, key=lambda x: x['count'], reverse=True)\n",
        "\n",
        "#print(variants)\n",
        "\n",
        "print(variants_count)"
      ],
      "execution_count": 5,
      "outputs": [
        {
          "output_type": "stream",
          "name": "stdout",
          "text": [
            "[{'variant': 'Inbound Call', 'count': 2449}, {'variant': 'Inbound Call,Inbound Call', 'count': 266}, {'variant': 'Inbound Call,Handle Case', 'count': 111}, {'variant': 'Inbound Email,Email Outbound,Handle Email', 'count': 86}, {'variant': 'Inbound Call,Inbound Call,Inbound Call', 'count': 59}, {'variant': 'Handle Email,Handle Email', 'count': 57}, {'variant': 'Handle Email,Call Outbound', 'count': 38}, {'variant': 'Inbound Email,Email Outbound,Email Outbound', 'count': 37}, {'variant': 'Inbound Email,Handle Email,Email Outbound', 'count': 36}, {'variant': 'Inbound Call,Inbound Call,Handle Case', 'count': 29}, {'variant': 'Inbound Call,Inbound Call,Inbound Call,Inbound Call', 'count': 19}, {'variant': 'Inbound Call,Call Outbound', 'count': 18}, {'variant': 'Handle Case,Inbound Call', 'count': 18}, {'variant': 'Inbound Call,Handle Case,Inbound Call', 'count': 17}, {'variant': 'Inbound Email,Call Outbound,Email Outbound,Handle Email', 'count': 15}, {'variant': 'Handle Case', 'count': 15}, {'variant': 'Inbound Call,Handle Case,Handle Case', 'count': 14}, {'variant': 'Handle Email', 'count': 14}, {'variant': 'Email Outbound,Handle Email,Inbound Email', 'count': 14}, {'variant': 'Email Outbound,Email Outbound,Inbound Email', 'count': 8}, {'variant': 'Inbound Email,Call Outbound,Email Outbound,Email Outbound', 'count': 7}, {'variant': 'Inbound Call,Inbound Call,Inbound Call,Handle Case', 'count': 7}, {'variant': 'Inbound Call,Handle Case,Inbound Call,Inbound Call', 'count': 7}, {'variant': 'Call Outbound,Call Outbound', 'count': 7}, {'variant': 'Inbound Email,Email Outbound,Handle Case', 'count': 6}, {'variant': 'Inbound Email,Call Outbound,Inbound Email,Call Outbound', 'count': 6}, {'variant': 'Inbound Call,Inbound Call,Inbound Call,Inbound Call,Inbound Call', 'count': 6}, {'variant': 'Inbound Call,Handle Case,Call Outbound', 'count': 6}, {'variant': 'Inbound Email,Email Outbound,Inbound Email', 'count': 5}, {'variant': 'Inbound Call,Inbound Call,Call Outbound', 'count': 5}, {'variant': 'Inbound Call,Handle Case,Handle Case,Call Outbound,Call Outbound', 'count': 5}, {'variant': 'Inbound Call,Email Outbound,Email Outbound', 'count': 5}, {'variant': 'Inbound Call,Call Outbound,Call Outbound', 'count': 5}, {'variant': 'Handle Email,Email Outbound,Inbound Email', 'count': 5}, {'variant': 'Handle Case,Handle Case', 'count': 5}, {'variant': 'Call Outbound,Inbound Call', 'count': 5}, {'variant': 'Inbound Email,Handle Email,Email Outbound,Email Outbound', 'count': 4}, {'variant': 'Inbound Email,Email Outbound,Handle Email,Handle Case', 'count': 4}, {'variant': 'Inbound Call,Inbound Call,Inbound Call,Inbound Call,Inbound Call,Inbound Call,Inbound Call', 'count': 4}, {'variant': 'Inbound Call,Inbound Call,Handle Case,Inbound Call,Inbound Call', 'count': 4}, {'variant': 'Inbound Call,Inbound Call,Handle Case,Inbound Call', 'count': 4}, {'variant': 'Inbound Call,Handle Case,Handle Case,Handle Case', 'count': 4}, {'variant': 'Handle Email,Handle Email,Call Outbound', 'count': 4}, {'variant': 'Call Outbound', 'count': 4}, {'variant': 'Inbound Email,Inbound Email,Handle Email', 'count': 3}, {'variant': 'Inbound Email,Inbound Email,Email Outbound', 'count': 3}, {'variant': 'Inbound Email,Handle Email,Email Outbound,Handle Email', 'count': 3}, {'variant': 'Inbound Email,Handle Case,Email Outbound', 'count': 3}, {'variant': 'Inbound Email,Email Outbound,Handle Email,Inbound Email,Email Outbound,Handle Email', 'count': 3}, {'variant': 'Inbound Email,Email Outbound,Email Outbound,Inbound Email,Email Outbound,Email Outbound', 'count': 3}, {'variant': 'Inbound Email,Email Outbound,Email Outbound,Call Outbound', 'count': 3}, {'variant': 'Inbound Email,Call Outbound,Email Outbound,Inbound Email', 'count': 3}, {'variant': 'Inbound Call,Inbound Call,Handle Case,Handle Case,Handle Case,Handle Case', 'count': 3}, {'variant': 'Inbound Call,Inbound Call,Handle Case,Handle Case,Handle Case', 'count': 3}, {'variant': 'Inbound Call,Inbound Call,Handle Case,Handle Case', 'count': 3}, {'variant': 'Inbound Call,Handle Case,Inbound Call,Inbound Call,Inbound Call,Inbound Call', 'count': 3}, {'variant': 'Inbound Call,Handle Case,Handle Case,Inbound Call', 'count': 3}, {'variant': 'Inbound Call,Call Outbound,Inbound Call', 'count': 3}, {'variant': 'Handle Email,Handle Email,Inbound Call', 'count': 3}, {'variant': 'Handle Case,Handle Case,Inbound Call', 'count': 3}, {'variant': 'Handle Case,Email Outbound,Inbound Email', 'count': 3}, {'variant': 'Email Outbound,Email Outbound', 'count': 3}, {'variant': 'Call Outbound,Inbound Call,Handle Case,Handle Case', 'count': 3}, {'variant': 'Call Outbound,Inbound Call,Call Outbound', 'count': 3}, {'variant': 'Inbound Email,Handle Email,Email Outbound,Inbound Call', 'count': 2}, {'variant': 'Inbound Email,Handle Email,Email Outbound,Handle Case', 'count': 2}, {'variant': 'Inbound Email,Email Outbound,Inbound Email,Email Outbound', 'count': 2}, {'variant': 'Inbound Email,Email Outbound,Handle Email,Inbound Call', 'count': 2}, {'variant': 'Inbound Email,Email Outbound,Handle Email,Handle Email', 'count': 2}, {'variant': 'Inbound Email,Call Outbound,Inbound Email,Handle Email', 'count': 2}, {'variant': 'Inbound Email,Call Outbound,Inbound Email,Call Outbound,Call Outbound', 'count': 2}, {'variant': 'Inbound Email,Call Outbound,Handle Email', 'count': 2}, {'variant': 'Inbound Email,Call Outbound,Call Outbound,Inbound Email', 'count': 2}, {'variant': 'Inbound Email,Call Outbound,Call Outbound,Handle Email', 'count': 2}, {'variant': 'Inbound Call,Inbound Call,Inbound Call,Inbound Call,Handle Case,Inbound Call', 'count': 2}, {'variant': 'Inbound Call,Inbound Call,Handle Case,Handle Case,Inbound Call', 'count': 2}, {'variant': 'Inbound Call,Inbound Call,Handle Case,Handle Case,Call Outbound,Call Outbound,Call Outbound', 'count': 2}, {'variant': 'Inbound Call,Inbound Call,Handle Case,Call Outbound', 'count': 2}, {'variant': 'Inbound Call,Handle Case,Inbound Call,Inbound Call,Inbound Call', 'count': 2}, {'variant': 'Inbound Call,Handle Case,Inbound Call,Handle Case,Inbound Call', 'count': 2}, {'variant': 'Inbound Call,Handle Case,Inbound Call,Handle Case', 'count': 2}, {'variant': 'Inbound Call,Handle Case,Handle Case,Handle Case,Call Outbound', 'count': 2}, {'variant': 'Inbound Call,Handle Case,Handle Case,Call Outbound', 'count': 2}, {'variant': 'Inbound Call,Email Outbound', 'count': 2}, {'variant': 'Inbound Call,Call Outbound,Handle Case', 'count': 2}, {'variant': 'Handle Email,Inbound Call', 'count': 2}, {'variant': 'Handle Email,Handle Email,Handle Case', 'count': 2}, {'variant': 'Handle Email,Handle Email,Call Outbound,Call Outbound', 'count': 2}, {'variant': 'Handle Email,Handle Case', 'count': 2}, {'variant': 'Handle Email,Call Outbound,Inbound Call', 'count': 2}, {'variant': 'Handle Email,Call Outbound,Handle Email,Call Outbound', 'count': 2}, {'variant': 'Handle Email,Call Outbound,Handle Email', 'count': 2}, {'variant': 'Handle Case,Inbound Call,Inbound Call,Inbound Call,Inbound Call', 'count': 2}, {'variant': 'Handle Case,Inbound Call,Inbound Call,Inbound Call', 'count': 2}, {'variant': 'Handle Case,Inbound Call,Inbound Call', 'count': 2}, {'variant': 'Handle Case,Inbound Call,Handle Case', 'count': 2}, {'variant': 'Handle Case,Handle Email,Handle Email', 'count': 2}, {'variant': 'Handle Case,Handle Case,Inbound Email,Email Outbound,Handle Email', 'count': 2}, {'variant': 'Handle Case,Handle Case,Inbound Call,Handle Case', 'count': 2}, {'variant': 'Handle Case,Handle Case,Handle Case,Inbound Call', 'count': 2}, {'variant': 'Handle Case,Call Outbound', 'count': 2}, {'variant': 'Call Outbound,Inbound Call,Call Outbound,Call Outbound', 'count': 2}, {'variant': 'Call Outbound,Email Outbound,Handle Email,Inbound Email', 'count': 2}, {'variant': 'Call Outbound,Call Outbound,Inbound Call,Call Outbound', 'count': 2}, {'variant': 'Call Outbound,Call Outbound,Inbound Call', 'count': 2}, {'variant': 'Inbound Email,Inbound Email,Handle Email,Inbound Call', 'count': 1}, {'variant': 'Inbound Email,Inbound Email,Handle Case,Handle Case', 'count': 1}, {'variant': 'Inbound Email,Inbound Email,Email Outbound,Inbound Email,Call Outbound,Email Outbound,Email Outbound', 'count': 1}, {'variant': 'Inbound Email,Inbound Email,Email Outbound,Handle Email,Handle Email', 'count': 1}, {'variant': 'Inbound Email,Inbound Email,Email Outbound,Handle Email,Call Outbound', 'count': 1}, {'variant': 'Inbound Email,Inbound Email,Email Outbound,Handle Case,Email Outbound,Email Outbound', 'count': 1}, {'variant': 'Inbound Email,Inbound Email,Email Outbound,Email Outbound,Handle Case,Inbound Email,Handle Email,Email Outbound', 'count': 1}, {'variant': 'Inbound Email,Inbound Call,Handle Case,Inbound Call,Email Outbound,Email Outbound,Call Outbound,Call Outbound,Handle Case,Handle Case', 'count': 1}, {'variant': 'Inbound Email,Handle Email,Handle Email,Inbound Email', 'count': 1}, {'variant': 'Inbound Email,Handle Email,Handle Email,Email Outbound,Handle Email', 'count': 1}, {'variant': 'Inbound Email,Handle Email,Handle Case,Email Outbound,Inbound Email,Email Outbound,Handle Email,Inbound Email,Email Outbound,Handle Email,Inbound Email,Call Outbound,Call Outbound,Inbound Email,Handle Case,Handle Case,Call Outbound', 'count': 1}, {'variant': 'Inbound Email,Handle Email,Email Outbound,Inbound Email,Handle Case,Email Outbound', 'count': 1}, {'variant': 'Inbound Email,Handle Email,Email Outbound,Inbound Email,Call Outbound,Email Outbound,Email Outbound', 'count': 1}, {'variant': 'Inbound Email,Handle Email,Email Outbound,Inbound Call,Inbound Call,Inbound Call,Handle Case,Inbound Call,Handle Case', 'count': 1}, {'variant': 'Inbound Email,Handle Email,Email Outbound,Handle Email,Inbound Email,Handle Email,Email Outbound', 'count': 1}, {'variant': 'Inbound Email,Handle Email,Email Outbound,Call Outbound', 'count': 1}, {'variant': 'Inbound Email,Handle Email,Call Outbound,Email Outbound,Handle Case', 'count': 1}, {'variant': 'Inbound Email,Handle Case,Handle Email,Handle Email', 'count': 1}, {'variant': 'Inbound Email,Handle Case,Handle Email,Email Outbound,Handle Email', 'count': 1}, {'variant': 'Inbound Email,Handle Case,Handle Case,Email Outbound,Handle Email', 'count': 1}, {'variant': 'Inbound Email,Handle Case,Handle Case,Email Outbound', 'count': 1}, {'variant': 'Inbound Email,Handle Case,Email Outbound,Inbound Email,Email Outbound,Handle Case,Handle Email,Handle Email', 'count': 1}, {'variant': 'Inbound Email,Handle Case,Email Outbound,Inbound Email', 'count': 1}, {'variant': 'Inbound Email,Email Outbound,Inbound Email,Handle Email', 'count': 1}, {'variant': 'Inbound Email,Email Outbound,Inbound Email,Handle Case,Handle Email', 'count': 1}, {'variant': 'Inbound Email,Email Outbound,Inbound Email,Handle Case,Handle Case,Handle Case,Handle Case,Handle Case,Email Outbound,Handle Case,Handle Case,Email Outbound,Handle Case', 'count': 1}, {'variant': 'Inbound Email,Email Outbound,Inbound Email,Handle Case', 'count': 1}, {'variant': 'Inbound Email,Email Outbound,Handle Email,Inbound Email,Handle Email,Email Outbound', 'count': 1}, {'variant': 'Inbound Email,Email Outbound,Handle Email,Inbound Email,Email Outbound,Handle Case,Handle Email,Handle Case,Inbound Call', 'count': 1}, {'variant': 'Inbound Email,Email Outbound,Handle Email,Inbound Email,Call Outbound,Call Outbound,Inbound Email', 'count': 1}, {'variant': 'Inbound Email,Email Outbound,Handle Email,Handle Email,Handle Email,Inbound Call', 'count': 1}, {'variant': 'Inbound Email,Email Outbound,Handle Email,Handle Email,Call Outbound', 'count': 1}, {'variant': 'Inbound Email,Email Outbound,Handle Email,Email Outbound', 'count': 1}, {'variant': 'Inbound Email,Email Outbound,Handle Email,Call Outbound', 'count': 1}, {'variant': 'Inbound Email,Email Outbound,Handle Case,Handle Case,Inbound Call', 'count': 1}, {'variant': 'Inbound Email,Email Outbound,Handle Case,Email Outbound', 'count': 1}, {'variant': 'Inbound Email,Email Outbound,Email Outbound,Inbound Email,Email Outbound,Handle Case,Email Outbound,Handle Email,Inbound Email,Email Outbound,Inbound Call', 'count': 1}, {'variant': 'Inbound Email,Email Outbound,Email Outbound,Inbound Call', 'count': 1}, {'variant': 'Inbound Email,Email Outbound,Email Outbound,Handle Email,Call Outbound,Call Outbound,Handle Email,Call Outbound', 'count': 1}, {'variant': 'Inbound Email,Email Outbound,Email Outbound,Handle Email,Call Outbound', 'count': 1}, {'variant': 'Inbound Email,Email Outbound,Email Outbound,Handle Email', 'count': 1}, {'variant': 'Inbound Email,Email Outbound,Email Outbound,Handle Case,Handle Case', 'count': 1}, {'variant': 'Inbound Email,Email Outbound,Email Outbound,Handle Case', 'count': 1}, {'variant': 'Inbound Email,Email Outbound,Email Outbound,Email Outbound,Inbound Call', 'count': 1}, {'variant': 'Inbound Email,Email Outbound,Email Outbound,Email Outbound', 'count': 1}, {'variant': 'Inbound Email,Email Outbound,Email Outbound,Call Outbound,Inbound Call', 'count': 1}, {'variant': 'Inbound Email,Email Outbound,Call Outbound,Handle Email', 'count': 1}, {'variant': 'Inbound Email,Email Outbound,Call Outbound,Email Outbound', 'count': 1}, {'variant': 'Inbound Email,Call Outbound,Inbound Email,Handle Email,Handle Email,Call Outbound,Handle Email', 'count': 1}, {'variant': 'Inbound Email,Call Outbound,Inbound Email,Handle Email,Handle Email,Call Outbound', 'count': 1}, {'variant': 'Inbound Email,Call Outbound,Inbound Email,Handle Case,Call Outbound,Handle Email', 'count': 1}, {'variant': 'Inbound Email,Call Outbound,Inbound Email,Email Outbound,Handle Email,Call Outbound,Handle Case,Call Outbound', 'count': 1}, {'variant': 'Inbound Email,Call Outbound,Inbound Email,Email Outbound,Handle Email', 'count': 1}, {'variant': 'Inbound Email,Call Outbound,Inbound Email,Email Outbound,Handle Case,Inbound Call', 'count': 1}, {'variant': 'Inbound Email,Call Outbound,Inbound Email,Email Outbound', 'count': 1}, {'variant': 'Inbound Email,Call Outbound,Inbound Email,Call Outbound,Inbound Call,Inbound Call,Handle Case,Handle Case,Handle Case,Handle Case,Handle Case,Handle Case', 'count': 1}, {'variant': 'Inbound Email,Call Outbound,Inbound Email,Call Outbound,Call Outbound,Handle Case', 'count': 1}, {'variant': 'Inbound Email,Call Outbound,Handle Email,Handle Case,Call Outbound,Email Outbound,Call Outbound', 'count': 1}, {'variant': 'Inbound Email,Call Outbound,Handle Email,Email Outbound,Email Outbound', 'count': 1}, {'variant': 'Inbound Email,Call Outbound,Handle Email,Call Outbound,Handle Case,Email Outbound,Call Outbound,Inbound Email,Call Outbound,Email Outbound,Handle Email,Call Outbound', 'count': 1}, {'variant': 'Inbound Email,Call Outbound,Handle Email,Call Outbound', 'count': 1}, {'variant': 'Inbound Email,Call Outbound,Handle Case,Inbound Email', 'count': 1}, {'variant': 'Inbound Email,Call Outbound,Email Outbound,Inbound Email,Call Outbound,Call Outbound,Call Outbound', 'count': 1}, {'variant': 'Inbound Email,Call Outbound,Email Outbound,Handle Email,Inbound Email,Handle Email,Email Outbound,Handle Email', 'count': 1}, {'variant': 'Inbound Email,Call Outbound,Email Outbound,Handle Email,Inbound Email,Call Outbound,Inbound Email,Call Outbound', 'count': 1}, {'variant': 'Inbound Email,Call Outbound,Email Outbound,Handle Email,Call Outbound,Call Outbound,Inbound Email,Call Outbound,Inbound Email,Email Outbound,Email Outbound', 'count': 1}, {'variant': 'Inbound Email,Call Outbound,Email Outbound,Handle Email,Call Outbound,Call Outbound,Handle Case,Call Outbound,Call Outbound,Handle Case,Handle Case,Call Outbound,Call Outbound,Call Outbound,Call Outbound', 'count': 1}, {'variant': 'Inbound Call,Inbound Call,Inbound Call,Inbound Call,Inbound Call,Inbound Call,Inbound Call,Inbound Call,Handle Case', 'count': 1}, {'variant': 'Inbound Call,Inbound Call,Inbound Call,Inbound Call,Inbound Call,Inbound Call,Inbound Call,Inbound Call', 'count': 1}, {'variant': 'Inbound Call,Inbound Call,Inbound Call,Inbound Call,Inbound Call,Inbound Call,Inbound Call,Handle Case', 'count': 1}, {'variant': 'Inbound Call,Inbound Call,Inbound Call,Inbound Call,Inbound Call,Inbound Call,Inbound Call,Email Outbound,Inbound Call,Inbound Call,Inbound Call', 'count': 1}, {'variant': 'Inbound Call,Inbound Call,Inbound Call,Inbound Call,Inbound Call,Handle Case,Handle Case', 'count': 1}, {'variant': 'Inbound Call,Inbound Call,Inbound Call,Inbound Call,Inbound Call,Email Outbound', 'count': 1}, {'variant': 'Inbound Call,Inbound Call,Inbound Call,Inbound Call,Handle Case,Handle Case,Inbound Call,Inbound Call,Call Outbound', 'count': 1}, {'variant': 'Inbound Call,Inbound Call,Inbound Call,Inbound Call,Handle Case,Handle Case,Inbound Call,Inbound Call', 'count': 1}, {'variant': 'Inbound Call,Inbound Call,Inbound Call,Inbound Call,Call Outbound,Inbound Call', 'count': 1}, {'variant': 'Inbound Call,Inbound Call,Inbound Call,Handle Case,Inbound Call,Inbound Call,Handle Case,Handle Case,Handle Case', 'count': 1}, {'variant': 'Inbound Call,Inbound Call,Inbound Call,Handle Case,Inbound Call,Inbound Call', 'count': 1}, {'variant': 'Inbound Call,Inbound Call,Inbound Call,Handle Case,Inbound Call,Handle Case,Handle Case,Inbound Call,Handle Case,Handle Case,Inbound Call,Inbound Call,Handle Case,Call Outbound,Call Outbound,Call Outbound,Handle Case,Handle Case,Call Outbound,Call Outbound,Inbound Call', 'count': 1}, {'variant': 'Inbound Call,Inbound Call,Inbound Call,Handle Case,Inbound Call,Call Outbound,Inbound Call,Handle Case,Call Outbound,Inbound Call,Handle Case', 'count': 1}, {'variant': 'Inbound Call,Inbound Call,Inbound Call,Handle Case,Inbound Call', 'count': 1}, {'variant': 'Inbound Call,Inbound Call,Inbound Call,Handle Case,Handle Case,Handle Case,Call Outbound,Handle Case,Inbound Call,Handle Case,Handle Case,Handle Case,Inbound Call,Inbound Call,Inbound Call,Inbound Call,Inbound Call,Handle Case,Handle Case', 'count': 1}, {'variant': 'Inbound Call,Inbound Call,Inbound Call,Handle Case,Handle Case,Handle Case', 'count': 1}, {'variant': 'Inbound Call,Inbound Call,Inbound Call,Handle Case,Handle Case', 'count': 1}, {'variant': 'Inbound Call,Inbound Call,Inbound Call,Handle Case,Call Outbound,Handle Case', 'count': 1}, {'variant': 'Inbound Call,Inbound Call,Inbound Call,Call Outbound,Call Outbound,Handle Case', 'count': 1}, {'variant': 'Inbound Call,Inbound Call,Inbound Call,Call Outbound,Call Outbound', 'count': 1}, {'variant': 'Inbound Call,Inbound Call,Inbound Call,Call Outbound', 'count': 1}, {'variant': 'Inbound Call,Inbound Call,Handle Email,Call Outbound', 'count': 1}, {'variant': 'Inbound Call,Inbound Call,Handle Case,Inbound Call,Inbound Call,Handle Case,Inbound Call,Handle Case', 'count': 1}, {'variant': 'Inbound Call,Inbound Call,Handle Case,Inbound Call,Handle Case,Handle Case', 'count': 1}, {'variant': 'Inbound Call,Inbound Call,Handle Case,Inbound Call,Handle Case,Call Outbound', 'count': 1}, {'variant': 'Inbound Call,Inbound Call,Handle Case,Inbound Call,Handle Case', 'count': 1}, {'variant': 'Inbound Call,Inbound Call,Handle Case,Inbound Call,Call Outbound', 'count': 1}, {'variant': 'Inbound Call,Inbound Call,Handle Case,Handle Case,Inbound Call,Inbound Call,Inbound Call,Inbound Call,Handle Case,Inbound Call,Handle Case,Call Outbound,Inbound Call', 'count': 1}, {'variant': 'Inbound Call,Inbound Call,Handle Case,Handle Case,Inbound Call,Inbound Call,Call Outbound,Call Outbound,Call Outbound', 'count': 1}, {'variant': 'Inbound Call,Inbound Call,Handle Case,Handle Case,Handle Case,Inbound Call,Call Outbound,Handle Case', 'count': 1}, {'variant': 'Inbound Call,Inbound Call,Handle Case,Handle Case,Handle Case,Inbound Call', 'count': 1}, {'variant': 'Inbound Call,Inbound Call,Handle Case,Handle Case,Handle Case,Handle Case,Handle Case,Handle Case', 'count': 1}, {'variant': 'Inbound Call,Inbound Call,Handle Case,Handle Case,Handle Case,Call Outbound,Call Outbound,Handle Case', 'count': 1}, {'variant': 'Inbound Call,Inbound Call,Handle Case,Handle Case,Call Outbound,Call Outbound,Call Outbound,Inbound Call', 'count': 1}, {'variant': 'Inbound Call,Inbound Call,Handle Case,Handle Case,Call Outbound,Call Outbound,Call Outbound,Call Outbound,Inbound Call,Inbound Call,Inbound Call,Handle Case', 'count': 1}, {'variant': 'Inbound Call,Inbound Call,Handle Case,Handle Case,Call Outbound,Call Outbound', 'count': 1}, {'variant': 'Inbound Call,Inbound Call,Handle Case,Handle Case,Call Outbound', 'count': 1}, {'variant': 'Inbound Call,Inbound Call,Handle Case,Call Outbound,Inbound Call', 'count': 1}, {'variant': 'Inbound Call,Inbound Call,Handle Case,Call Outbound,Handle Case,Inbound Call,Handle Case,Inbound Call,Handle Case,Inbound Call,Handle Case,Handle Case,Handle Case,Inbound Call,Inbound Call,Handle Case,Inbound Call,Inbound Call,Inbound Call,Inbound Call,Inbound Call,Inbound Call,Inbound Call,Handle Case,Handle Case,Inbound Call,Inbound Call,Handle Case,Inbound Call', 'count': 1}, {'variant': 'Inbound Call,Inbound Call,Handle Case,Call Outbound,Call Outbound,Inbound Call,Handle Case,Call Outbound,Call Outbound', 'count': 1}, {'variant': 'Inbound Call,Inbound Call,Call Outbound,Inbound Call,Inbound Call', 'count': 1}, {'variant': 'Inbound Call,Inbound Call,Call Outbound,Email Outbound,Inbound Call,Inbound Call', 'count': 1}, {'variant': 'Inbound Call,Inbound Call,Call Outbound,Email Outbound,Email Outbound', 'count': 1}, {'variant': 'Inbound Call,Inbound Call,Call Outbound,Call Outbound,Inbound Call', 'count': 1}, {'variant': 'Inbound Call,Inbound Call,Call Outbound,Call Outbound', 'count': 1}, {'variant': 'Inbound Call,Handle Email,Inbound Call', 'count': 1}, {'variant': 'Inbound Call,Handle Email,Handle Email', 'count': 1}, {'variant': 'Inbound Call,Handle Email,Call Outbound', 'count': 1}, {'variant': 'Inbound Call,Handle Case,Inbound Call,Inbound Call,Inbound Call,Inbound Call,Inbound Call', 'count': 1}, {'variant': 'Inbound Call,Handle Case,Inbound Call,Inbound Call,Inbound Call,Handle Case', 'count': 1}, {'variant': 'Inbound Call,Handle Case,Inbound Call,Inbound Call,Handle Case,Inbound Call', 'count': 1}, {'variant': 'Inbound Call,Handle Case,Inbound Call,Handle Case,Inbound Call,Inbound Call,Inbound Call,Inbound Call,Handle Case', 'count': 1}, {'variant': 'Inbound Call,Handle Case,Inbound Call,Handle Case,Inbound Call,Handle Case,Handle Case,Handle Case,Handle Case,Handle Case,Call Outbound', 'count': 1}, {'variant': 'Inbound Call,Handle Case,Inbound Call,Handle Case,Handle Case,Handle Case,Handle Case,Handle Case,Inbound Call,Inbound Call', 'count': 1}, {'variant': 'Inbound Call,Handle Case,Inbound Call,Handle Case,Call Outbound,Inbound Call,Handle Case,Handle Case', 'count': 1}, {'variant': 'Inbound Call,Handle Case,Inbound Call,Call Outbound,Inbound Call,Handle Case,Call Outbound,Handle Case,Handle Case,Inbound Call', 'count': 1}, {'variant': 'Inbound Call,Handle Case,Handle Email,Call Outbound,Inbound Call', 'count': 1}, {'variant': 'Inbound Call,Handle Case,Handle Case,Inbound Call,Inbound Call,Inbound Call,Inbound Call,Handle Case,Inbound Call', 'count': 1}, {'variant': 'Inbound Call,Handle Case,Handle Case,Inbound Call,Inbound Call,Call Outbound,Inbound Email,Call Outbound,Inbound Email,Call Outbound,Call Outbound,Call Outbound', 'count': 1}, {'variant': 'Inbound Call,Handle Case,Handle Case,Inbound Call,Handle Case,Inbound Call', 'count': 1}, {'variant': 'Inbound Call,Handle Case,Handle Case,Inbound Call,Handle Case,Call Outbound,Handle Case,Inbound Call', 'count': 1}, {'variant': 'Inbound Call,Handle Case,Handle Case,Inbound Call,Handle Case,Call Outbound,Call Outbound,Call Outbound,Call Outbound', 'count': 1}, {'variant': 'Inbound Call,Handle Case,Handle Case,Inbound Call,Call Outbound,Inbound Call,Inbound Call,Handle Case,Handle Case', 'count': 1}, {'variant': 'Inbound Call,Handle Case,Handle Case,Inbound Call,Call Outbound,Handle Case', 'count': 1}, {'variant': 'Inbound Call,Handle Case,Handle Case,Inbound Call,Call Outbound,Call Outbound,Call Outbound,Call Outbound', 'count': 1}, {'variant': 'Inbound Call,Handle Case,Handle Case,Inbound Call,Call Outbound', 'count': 1}, {'variant': 'Inbound Call,Handle Case,Handle Case,Handle Email,Call Outbound,Call Outbound', 'count': 1}, {'variant': 'Inbound Call,Handle Case,Handle Case,Handle Case,Inbound Call,Inbound Call,Call Outbound,Call Outbound', 'count': 1}, {'variant': 'Inbound Call,Handle Case,Handle Case,Handle Case,Handle Case,Call Outbound,Inbound Call,Inbound Call,Call Outbound,Handle Case', 'count': 1}, {'variant': 'Inbound Call,Handle Case,Handle Case,Handle Case,Handle Case,Call Outbound,Call Outbound', 'count': 1}, {'variant': 'Inbound Call,Handle Case,Handle Case,Handle Case,Call Outbound,Inbound Call,Inbound Call,Inbound Call,Inbound Call,Handle Case,Inbound Call,Call Outbound,Handle Case,Handle Case,Handle Case', 'count': 1}, {'variant': 'Inbound Call,Handle Case,Handle Case,Handle Case,Call Outbound,Inbound Call,Handle Case,Handle Case,Handle Case', 'count': 1}, {'variant': 'Inbound Call,Handle Case,Handle Case,Handle Case,Call Outbound,Call Outbound,Inbound Call', 'count': 1}, {'variant': 'Inbound Call,Handle Case,Handle Case,Handle Case,Call Outbound,Call Outbound', 'count': 1}, {'variant': 'Inbound Call,Handle Case,Handle Case,Call Outbound,Inbound Call', 'count': 1}, {'variant': 'Inbound Call,Handle Case,Handle Case,Call Outbound,Call Outbound,Call Outbound', 'count': 1}, {'variant': 'Inbound Call,Handle Case,Call Outbound,Inbound Call,Inbound Call', 'count': 1}, {'variant': 'Inbound Call,Handle Case,Call Outbound,Inbound Call,Handle Case', 'count': 1}, {'variant': 'Inbound Call,Handle Case,Call Outbound,Inbound Call', 'count': 1}, {'variant': 'Inbound Call,Handle Case,Call Outbound,Handle Case,Inbound Call,Handle Email', 'count': 1}, {'variant': 'Inbound Call,Handle Case,Call Outbound,Handle Case,Inbound Call,Handle Case,Handle Case', 'count': 1}, {'variant': 'Inbound Call,Handle Case,Call Outbound,Handle Case,Handle Case,Handle Case,Handle Case,Handle Case,Inbound Call,Inbound Call', 'count': 1}, {'variant': 'Inbound Call,Handle Case,Call Outbound,Handle Case,Handle Case', 'count': 1}, {'variant': 'Inbound Call,Handle Case,Call Outbound,Call Outbound,Inbound Call,Handle Case,Handle Case', 'count': 1}, {'variant': 'Inbound Call,Handle Case,Call Outbound,Call Outbound,Handle Case,Inbound Call', 'count': 1}, {'variant': 'Inbound Call,Handle Case,Call Outbound,Call Outbound,Handle Case,Handle Case', 'count': 1}, {'variant': 'Inbound Call,Handle Case,Call Outbound,Call Outbound,Handle Case,Call Outbound', 'count': 1}, {'variant': 'Inbound Call,Handle Case,Call Outbound,Call Outbound,Call Outbound,Call Outbound', 'count': 1}, {'variant': 'Inbound Call,Handle Case,Call Outbound,Call Outbound', 'count': 1}, {'variant': 'Inbound Call,Email Outbound,Inbound Call,Handle Case,Handle Case,Handle Case,Handle Case', 'count': 1}, {'variant': 'Inbound Call,Email Outbound,Inbound Call', 'count': 1}, {'variant': 'Inbound Call,Email Outbound,Handle Case', 'count': 1}, {'variant': 'Inbound Call,Email Outbound,Email Outbound,Inbound Call', 'count': 1}, {'variant': 'Inbound Call,Email Outbound,Email Outbound,Email Outbound,Email Outbound,Email Outbound,Email Outbound', 'count': 1}, {'variant': 'Inbound Call,Email Outbound,Call Outbound,Handle Case,Inbound Call,Call Outbound,Call Outbound,Handle Case', 'count': 1}, {'variant': 'Inbound Call,Call Outbound,Inbound Call,Inbound Call,Handle Case,Handle Case', 'count': 1}, {'variant': 'Inbound Call,Call Outbound,Inbound Call,Inbound Call', 'count': 1}, {'variant': 'Inbound Call,Call Outbound,Inbound Call,Handle Case,Inbound Call,Inbound Call,Handle Case,Inbound Call,Inbound Call,Inbound Call', 'count': 1}, {'variant': 'Inbound Call,Call Outbound,Inbound Call,Handle Case,Inbound Call', 'count': 1}, {'variant': 'Inbound Call,Call Outbound,Inbound Call,Handle Case', 'count': 1}, {'variant': 'Inbound Call,Call Outbound,Inbound Call,Call Outbound', 'count': 1}, {'variant': 'Inbound Call,Call Outbound,Handle Case,Handle Case', 'count': 1}, {'variant': 'Inbound Call,Call Outbound,Call Outbound,Inbound Call,Handle Case', 'count': 1}, {'variant': 'Inbound Call,Call Outbound,Call Outbound,Inbound Call,Call Outbound', 'count': 1}, {'variant': 'Inbound Call,Call Outbound,Call Outbound,Inbound Call', 'count': 1}, {'variant': 'Inbound Call,Call Outbound,Call Outbound,Handle Case,Handle Case,Inbound Call', 'count': 1}, {'variant': 'Inbound Call,Call Outbound,Call Outbound,Call Outbound,Call Outbound,Call Outbound', 'count': 1}, {'variant': 'Inbound Call,Call Outbound,Call Outbound,Call Outbound', 'count': 1}, {'variant': 'Handle Email,Inbound Call,Inbound Call', 'count': 1}, {'variant': 'Handle Email,Handle Email,Handle Email,Handle Case,Handle Email,Call Outbound,Handle Email,Handle Email', 'count': 1}, {'variant': 'Handle Email,Handle Email,Handle Case,Inbound Call', 'count': 1}, {'variant': 'Handle Email,Handle Email,Handle Case,Call Outbound,Handle Case,Call Outbound', 'count': 1}, {'variant': 'Handle Email,Handle Email,Handle Case,Call Outbound,Call Outbound', 'count': 1}, {'variant': 'Handle Email,Handle Email,Email Outbound,Email Outbound,Email Outbound,Email Outbound,Email Outbound,Handle Case,Email Outbound,Inbound Call', 'count': 1}, {'variant': 'Handle Email,Handle Email,Call Outbound,Inbound Call,Handle Case,Handle Case,Inbound Call,Inbound Call', 'count': 1}, {'variant': 'Handle Email,Handle Email,Call Outbound,Handle Case', 'count': 1}, {'variant': 'Handle Email,Handle Case,Handle Email,Handle Case,Inbound Call', 'count': 1}, {'variant': 'Handle Email,Handle Case,Handle Case,Inbound Email,Handle Email,Email Outbound', 'count': 1}, {'variant': 'Handle Email,Handle Case,Handle Case,Call Outbound,Inbound Call,Handle Case,Call Outbound,Call Outbound', 'count': 1}, {'variant': 'Handle Email,Handle Case,Handle Case', 'count': 1}, {'variant': 'Handle Email,Handle Case,Email Outbound,Inbound Email', 'count': 1}, {'variant': 'Handle Email,Email Outbound,Inbound Email,Email Outbound,Handle Email,Inbound Email', 'count': 1}, {'variant': 'Handle Email,Email Outbound,Handle Email,Inbound Email,Inbound Email,Email Outbound,Handle Email,Inbound Email,Email Outbound,Email Outbound,Inbound Email,Email Outbound,Email Outbound', 'count': 1}, {'variant': 'Handle Email,Email Outbound,Handle Email,Call Outbound,Inbound Email', 'count': 1}, {'variant': 'Handle Email,Email Outbound,Handle Case,Inbound Email,Inbound Email,Email Outbound,Handle Email', 'count': 1}, {'variant': 'Handle Email,Email Outbound,Handle Case,Inbound Email', 'count': 1}, {'variant': 'Handle Email,Call Outbound,Handle Case,Handle Case,Call Outbound,Call Outbound', 'count': 1}, {'variant': 'Handle Email,Call Outbound,Handle Case,Handle Case,Call Outbound', 'count': 1}, {'variant': 'Handle Email,Call Outbound,Handle Case,Call Outbound', 'count': 1}, {'variant': 'Handle Email,Call Outbound,Handle Case', 'count': 1}, {'variant': 'Handle Email,Call Outbound,Email Outbound', 'count': 1}, {'variant': 'Handle Email,Call Outbound,Call Outbound,Handle Email', 'count': 1}, {'variant': 'Handle Email,Call Outbound,Call Outbound,Handle Case', 'count': 1}, {'variant': 'Handle Email,Call Outbound,Call Outbound,Call Outbound', 'count': 1}, {'variant': 'Handle Case,Inbound Email,Email Outbound,Handle Email,Inbound Call,Call Outbound,Handle Case,Call Outbound,Handle Case,Call Outbound', 'count': 1}, {'variant': 'Handle Case,Inbound Email,Call Outbound,Email Outbound,Handle Email,Inbound Call,Inbound Call,Inbound Call,Inbound Call,Handle Case,Handle Case,Handle Case,Handle Case,Handle Case', 'count': 1}, {'variant': 'Handle Case,Inbound Call,Inbound Call,Inbound Call,Inbound Call,Inbound Call,Inbound Call,Handle Case,Inbound Call,Inbound Call,Inbound Call,Handle Case,Handle Case,Call Outbound,Call Outbound,Call Outbound', 'count': 1}, {'variant': 'Handle Case,Inbound Call,Inbound Call,Inbound Call,Handle Case,Inbound Call,Email Outbound,Email Outbound', 'count': 1}, {'variant': 'Handle Case,Inbound Call,Inbound Call,Inbound Call,Handle Case,Handle Case,Handle Case,Inbound Call', 'count': 1}, {'variant': 'Handle Case,Inbound Call,Inbound Call,Inbound Call,Handle Case,Handle Case', 'count': 1}, {'variant': 'Handle Case,Inbound Call,Inbound Call,Inbound Call,Call Outbound,Handle Case,Inbound Call', 'count': 1}, {'variant': 'Handle Case,Inbound Call,Inbound Call,Handle Case,Handle Case,Inbound Call,Inbound Call,Call Outbound,Call Outbound,Call Outbound,Call Outbound,Call Outbound,Handle Case,Call Outbound,Handle Case', 'count': 1}, {'variant': 'Handle Case,Inbound Call,Inbound Call,Call Outbound,Inbound Call,Inbound Call,Handle Case,Inbound Call,Inbound Call,Handle Case,Handle Case,Handle Case,Handle Case,Call Outbound,Inbound Call,Handle Case,Inbound Call,Handle Case,Handle Case,Call Outbound,Call Outbound,Call Outbound,Inbound Call,Handle Case,Handle Case,Inbound Call,Call Outbound,Inbound Call,Handle Case,Call Outbound', 'count': 1}, {'variant': 'Handle Case,Inbound Call,Inbound Call,Call Outbound,Call Outbound,Inbound Call,Handle Case,Handle Case,Handle Case', 'count': 1}, {'variant': 'Handle Case,Inbound Call,Inbound Call,Call Outbound,Call Outbound,Call Outbound', 'count': 1}, {'variant': 'Handle Case,Inbound Call,Inbound Call,Call Outbound', 'count': 1}, {'variant': 'Handle Case,Inbound Call,Handle Case,Inbound Call', 'count': 1}, {'variant': 'Handle Case,Inbound Call,Handle Case,Handle Case,Handle Case,Inbound Call,Handle Case,Inbound Call', 'count': 1}, {'variant': 'Handle Case,Handle Case,Inbound Call,Inbound Call,Inbound Call,Inbound Call', 'count': 1}, {'variant': 'Handle Case,Handle Case,Inbound Call,Inbound Call,Inbound Call,Handle Case,Handle Case,Inbound Call,Handle Case,Handle Case,Handle Case,Handle Case,Call Outbound,Call Outbound,Call Outbound,Handle Case', 'count': 1}, {'variant': 'Handle Case,Handle Case,Inbound Call,Inbound Call', 'count': 1}, {'variant': 'Handle Case,Handle Case,Inbound Call,Call Outbound,Call Outbound,Call Outbound', 'count': 1}, {'variant': 'Handle Case,Handle Case,Handle Case,Inbound Call,Inbound Call,Inbound Call,Inbound Call,Handle Case', 'count': 1}, {'variant': 'Handle Case,Handle Case,Handle Case,Inbound Call,Inbound Call,Inbound Call,Inbound Call', 'count': 1}, {'variant': 'Handle Case,Handle Case,Handle Case,Inbound Call,Inbound Call', 'count': 1}, {'variant': 'Handle Case,Handle Case,Handle Case,Inbound Call,Handle Case,Handle Case,Handle Case,Call Outbound,Inbound Call,Call Outbound,Handle Case,Inbound Call', 'count': 1}, {'variant': 'Handle Case,Handle Case,Handle Case,Inbound Call,Handle Case', 'count': 1}, {'variant': 'Handle Case,Handle Case,Handle Case,Handle Case,Inbound Call,Inbound Call,Handle Case,Handle Case,Handle Case', 'count': 1}, {'variant': 'Handle Case,Handle Case,Handle Case,Handle Case,Inbound Call', 'count': 1}, {'variant': 'Handle Case,Handle Case,Handle Case,Call Outbound,Handle Email,Handle Email,Call Outbound,Inbound Call,Call Outbound,Inbound Call', 'count': 1}, {'variant': 'Handle Case,Handle Case,Handle Case', 'count': 1}, {'variant': 'Handle Case,Handle Case,Call Outbound,Inbound Call,Inbound Call', 'count': 1}, {'variant': 'Handle Case,Handle Case,Call Outbound,Call Outbound,Call Outbound,Call Outbound,Inbound Call,Call Outbound,Inbound Call', 'count': 1}, {'variant': 'Handle Case,Email Outbound,Handle Case,Inbound Call', 'count': 1}, {'variant': 'Handle Case,Call Outbound,Inbound Call', 'count': 1}, {'variant': 'Handle Case,Call Outbound,Call Outbound,Inbound Email,Inbound Email', 'count': 1}, {'variant': 'Handle Case,Call Outbound,Call Outbound,Inbound Call,Inbound Call,Inbound Call,Call Outbound,Inbound Call,Inbound Call,Call Outbound,Call Outbound,Call Outbound,Call Outbound,Call Outbound', 'count': 1}, {'variant': 'Handle Case,Call Outbound,Call Outbound,Handle Case,Handle Case,Inbound Call', 'count': 1}, {'variant': 'Handle Case,Call Outbound,Call Outbound,Call Outbound,Inbound Call,Call Outbound', 'count': 1}, {'variant': 'Email Outbound,Inbound Email,Inbound Email', 'count': 1}, {'variant': 'Email Outbound,Inbound Email,Handle Email,Inbound Email', 'count': 1}, {'variant': 'Email Outbound,Inbound Email,Handle Email,Handle Case,Inbound Email,Call Outbound,Handle Case,Call Outbound,Inbound Email,Handle Case,Call Outbound,Call Outbound,Call Outbound,Inbound Email,Handle Case,Handle Email,Handle Case', 'count': 1}, {'variant': 'Email Outbound,Handle Email,Inbound Email,Handle Email', 'count': 1}, {'variant': 'Email Outbound,Handle Case,Handle Email,Handle Case,Handle Case,Inbound Email,Handle Case,Email Outbound', 'count': 1}, {'variant': 'Email Outbound,Handle Case,Handle Email,Email Outbound,Inbound Email,Handle Case', 'count': 1}, {'variant': 'Email Outbound,Handle Case,Email Outbound,Email Outbound,Email Outbound,Inbound Call,Email Outbound,Email Outbound', 'count': 1}, {'variant': 'Email Outbound,Email Outbound,Inbound Email,Inbound Email,Email Outbound,Handle Email', 'count': 1}, {'variant': 'Email Outbound,Email Outbound,Inbound Email,Call Outbound,Email Outbound,Handle Email,Inbound Email', 'count': 1}, {'variant': 'Email Outbound,Email Outbound,Inbound Call,Handle Case,Handle Case,Call Outbound,Handle Case', 'count': 1}, {'variant': 'Email Outbound,Email Outbound,Inbound Call', 'count': 1}, {'variant': 'Email Outbound,Email Outbound,Handle Email,Handle Case,Handle Case,Email Outbound,Inbound Email', 'count': 1}, {'variant': 'Email Outbound,Email Outbound,Handle Email,Call Outbound,Inbound Email,Email Outbound,Handle Email,Inbound Email', 'count': 1}, {'variant': 'Email Outbound,Email Outbound,Handle Case,Inbound Call,Inbound Email,Handle Email', 'count': 1}, {'variant': 'Email Outbound,Email Outbound,Handle Case,Handle Case,Handle Case,Call Outbound,Inbound Email', 'count': 1}, {'variant': 'Email Outbound,Call Outbound,Inbound Call,Inbound Email,Handle Email,Call Outbound', 'count': 1}, {'variant': 'Email Outbound,Call Outbound,Handle Email,Inbound Email', 'count': 1}, {'variant': 'Email Outbound,Call Outbound,Handle Email,Inbound Call,Inbound Email', 'count': 1}, {'variant': 'Call Outbound,Inbound Email,Email Outbound,Email Outbound', 'count': 1}, {'variant': 'Call Outbound,Inbound Email,Call Outbound,Handle Email,Call Outbound,Inbound Email', 'count': 1}, {'variant': 'Call Outbound,Inbound Email,Call Outbound,Email Outbound,Inbound Email,Call Outbound,Call Outbound,Handle Case,Handle Case,Handle Case', 'count': 1}, {'variant': 'Call Outbound,Inbound Call,Inbound Call,Inbound Call,Inbound Call,Handle Case,Handle Case', 'count': 1}, {'variant': 'Call Outbound,Inbound Call,Inbound Call,Inbound Call,Inbound Call', 'count': 1}, {'variant': 'Call Outbound,Inbound Call,Inbound Call,Inbound Call,Handle Case,Inbound Call', 'count': 1}, {'variant': 'Call Outbound,Inbound Call,Inbound Call,Inbound Call,Handle Case,Handle Case', 'count': 1}, {'variant': 'Call Outbound,Inbound Call,Inbound Call,Inbound Call,Handle Case', 'count': 1}, {'variant': 'Call Outbound,Inbound Call,Inbound Call,Inbound Call', 'count': 1}, {'variant': 'Call Outbound,Inbound Call,Inbound Call,Handle Case,Inbound Call,Inbound Call,Inbound Call,Handle Case,Inbound Call,Inbound Call', 'count': 1}, {'variant': 'Call Outbound,Inbound Call,Inbound Call,Call Outbound', 'count': 1}, {'variant': 'Call Outbound,Inbound Call,Handle Case,Inbound Call,Call Outbound', 'count': 1}, {'variant': 'Call Outbound,Inbound Call,Handle Case,Handle Email,Call Outbound', 'count': 1}, {'variant': 'Call Outbound,Inbound Call,Handle Case,Handle Case,Handle Case', 'count': 1}, {'variant': 'Call Outbound,Inbound Call,Handle Case,Call Outbound,Call Outbound', 'count': 1}, {'variant': 'Call Outbound,Inbound Call,Call Outbound,Call Outbound,Handle Case,Handle Case', 'count': 1}, {'variant': 'Call Outbound,Handle Email,Handle Email,Call Outbound,Call Outbound,Inbound Call,Handle Case', 'count': 1}, {'variant': 'Call Outbound,Handle Email,Handle Email', 'count': 1}, {'variant': 'Call Outbound,Handle Email,Call Outbound,Inbound Email', 'count': 1}, {'variant': 'Call Outbound,Handle Case,Inbound Call,Inbound Call,Call Outbound,Inbound Email,Email Outbound,Call Outbound,Email Outbound', 'count': 1}, {'variant': 'Call Outbound,Handle Case,Inbound Call', 'count': 1}, {'variant': 'Call Outbound,Handle Case,Handle Email,Handle Email,Handle Case,Call Outbound,Inbound Call,Inbound Call,Handle Case', 'count': 1}, {'variant': 'Call Outbound,Handle Case,Handle Case,Inbound Call,Handle Case,Call Outbound,Call Outbound', 'count': 1}, {'variant': 'Call Outbound,Handle Case,Handle Case,Handle Case,Inbound Call,Handle Case,Inbound Call,Inbound Call,Inbound Call,Inbound Call,Inbound Call,Handle Case', 'count': 1}, {'variant': 'Call Outbound,Email Outbound,Inbound Call,Inbound Email,Call Outbound,Handle Email', 'count': 1}, {'variant': 'Call Outbound,Email Outbound,Handle Email,Handle Email,Handle Email,Inbound Email', 'count': 1}, {'variant': 'Call Outbound,Call Outbound,Inbound Email,Inbound Email', 'count': 1}, {'variant': 'Call Outbound,Call Outbound,Inbound Call,Inbound Call,Inbound Call,Inbound Call', 'count': 1}, {'variant': 'Call Outbound,Call Outbound,Inbound Call,Inbound Call,Inbound Call', 'count': 1}, {'variant': 'Call Outbound,Call Outbound,Inbound Call,Inbound Call,Handle Case,Handle Case', 'count': 1}, {'variant': 'Call Outbound,Call Outbound,Inbound Call,Handle Case,Handle Case', 'count': 1}, {'variant': 'Call Outbound,Call Outbound,Inbound Call,Handle Case,Call Outbound', 'count': 1}, {'variant': 'Call Outbound,Call Outbound,Inbound Call,Handle Case', 'count': 1}, {'variant': 'Call Outbound,Call Outbound,Handle Email,Call Outbound,Handle Email,Handle Email,Inbound Email', 'count': 1}, {'variant': 'Call Outbound,Call Outbound,Handle Case,Inbound Call,Handle Email,Call Outbound,Call Outbound,Handle Case,Inbound Call', 'count': 1}, {'variant': 'Call Outbound,Call Outbound,Handle Case,Call Outbound,Handle Case,Inbound Call,Handle Case', 'count': 1}, {'variant': 'Call Outbound,Call Outbound,Email Outbound,Handle Email,Call Outbound,Call Outbound,Call Outbound,Call Outbound,Inbound Email', 'count': 1}, {'variant': 'Call Outbound,Call Outbound,Email Outbound,Call Outbound,Call Outbound,Handle Case,Inbound Email,Inbound Email,Call Outbound', 'count': 1}, {'variant': 'Call Outbound,Call Outbound,Email Outbound,Call Outbound,Call Outbound,Email Outbound,Call Outbound,Inbound Call', 'count': 1}, {'variant': 'Call Outbound,Call Outbound,Call Outbound,Handle Email,Call Outbound,Handle Case,Call Outbound', 'count': 1}, {'variant': 'Call Outbound,Call Outbound,Call Outbound,Call Outbound,Inbound Call,Inbound Call,Call Outbound,Handle Case,Handle Case,Call Outbound', 'count': 1}, {'variant': 'Call Outbound,Call Outbound,Call Outbound,Call Outbound,Call Outbound,Inbound Call,Inbound Call,Handle Case,Handle Case,Handle Case,Call Outbound', 'count': 1}, {'variant': 'Call Outbound,Call Outbound,Call Outbound,Call Outbound,Call Outbound,Inbound Call,Call Outbound', 'count': 1}, {'variant': 'Call Outbound,Call Outbound,Call Outbound,Call Outbound', 'count': 1}, {'variant': 'Call Outbound,Call Outbound,Call Outbound', 'count': 1}]\n"
          ]
        }
      ]
    },
    {
      "cell_type": "code",
      "metadata": {
        "colab": {
          "base_uri": "https://localhost:8080/",
          "height": 424
        },
        "id": "gz4cEv190T00",
        "outputId": "61ce1ef6-6b7d-4e80-8074-c681c44dd8f3"
      },
      "source": [
        "# Transform records (a list of dicts) into a dataframe\n",
        "# used to convert the variants_count dictionary into a data frame\n",
        "\n",
        "variants_df = pd.DataFrame.from_records(variants_count)\n",
        "variants_df"
      ],
      "execution_count": 6,
      "outputs": [
        {
          "output_type": "execute_result",
          "data": {
            "text/html": [
              "\n",
              "  <div id=\"df-59f1c7e0-03b8-4bf7-a6e8-5a5218cb12ed\">\n",
              "    <div class=\"colab-df-container\">\n",
              "      <div>\n",
              "<style scoped>\n",
              "    .dataframe tbody tr th:only-of-type {\n",
              "        vertical-align: middle;\n",
              "    }\n",
              "\n",
              "    .dataframe tbody tr th {\n",
              "        vertical-align: top;\n",
              "    }\n",
              "\n",
              "    .dataframe thead th {\n",
              "        text-align: right;\n",
              "    }\n",
              "</style>\n",
              "<table border=\"1\" class=\"dataframe\">\n",
              "  <thead>\n",
              "    <tr style=\"text-align: right;\">\n",
              "      <th></th>\n",
              "      <th>variant</th>\n",
              "      <th>count</th>\n",
              "    </tr>\n",
              "  </thead>\n",
              "  <tbody>\n",
              "    <tr>\n",
              "      <th>0</th>\n",
              "      <td>Inbound Call</td>\n",
              "      <td>2449</td>\n",
              "    </tr>\n",
              "    <tr>\n",
              "      <th>1</th>\n",
              "      <td>Inbound Call,Inbound Call</td>\n",
              "      <td>266</td>\n",
              "    </tr>\n",
              "    <tr>\n",
              "      <th>2</th>\n",
              "      <td>Inbound Call,Handle Case</td>\n",
              "      <td>111</td>\n",
              "    </tr>\n",
              "    <tr>\n",
              "      <th>3</th>\n",
              "      <td>Inbound Email,Email Outbound,Handle Email</td>\n",
              "      <td>86</td>\n",
              "    </tr>\n",
              "    <tr>\n",
              "      <th>4</th>\n",
              "      <td>Inbound Call,Inbound Call,Inbound Call</td>\n",
              "      <td>59</td>\n",
              "    </tr>\n",
              "    <tr>\n",
              "      <th>...</th>\n",
              "      <td>...</td>\n",
              "      <td>...</td>\n",
              "    </tr>\n",
              "    <tr>\n",
              "      <th>399</th>\n",
              "      <td>Call Outbound,Call Outbound,Call Outbound,Call...</td>\n",
              "      <td>1</td>\n",
              "    </tr>\n",
              "    <tr>\n",
              "      <th>400</th>\n",
              "      <td>Call Outbound,Call Outbound,Call Outbound,Call...</td>\n",
              "      <td>1</td>\n",
              "    </tr>\n",
              "    <tr>\n",
              "      <th>401</th>\n",
              "      <td>Call Outbound,Call Outbound,Call Outbound,Call...</td>\n",
              "      <td>1</td>\n",
              "    </tr>\n",
              "    <tr>\n",
              "      <th>402</th>\n",
              "      <td>Call Outbound,Call Outbound,Call Outbound,Call...</td>\n",
              "      <td>1</td>\n",
              "    </tr>\n",
              "    <tr>\n",
              "      <th>403</th>\n",
              "      <td>Call Outbound,Call Outbound,Call Outbound</td>\n",
              "      <td>1</td>\n",
              "    </tr>\n",
              "  </tbody>\n",
              "</table>\n",
              "<p>404 rows × 2 columns</p>\n",
              "</div>\n",
              "      <button class=\"colab-df-convert\" onclick=\"convertToInteractive('df-59f1c7e0-03b8-4bf7-a6e8-5a5218cb12ed')\"\n",
              "              title=\"Convert this dataframe to an interactive table.\"\n",
              "              style=\"display:none;\">\n",
              "        \n",
              "  <svg xmlns=\"http://www.w3.org/2000/svg\" height=\"24px\"viewBox=\"0 0 24 24\"\n",
              "       width=\"24px\">\n",
              "    <path d=\"M0 0h24v24H0V0z\" fill=\"none\"/>\n",
              "    <path d=\"M18.56 5.44l.94 2.06.94-2.06 2.06-.94-2.06-.94-.94-2.06-.94 2.06-2.06.94zm-11 1L8.5 8.5l.94-2.06 2.06-.94-2.06-.94L8.5 2.5l-.94 2.06-2.06.94zm10 10l.94 2.06.94-2.06 2.06-.94-2.06-.94-.94-2.06-.94 2.06-2.06.94z\"/><path d=\"M17.41 7.96l-1.37-1.37c-.4-.4-.92-.59-1.43-.59-.52 0-1.04.2-1.43.59L10.3 9.45l-7.72 7.72c-.78.78-.78 2.05 0 2.83L4 21.41c.39.39.9.59 1.41.59.51 0 1.02-.2 1.41-.59l7.78-7.78 2.81-2.81c.8-.78.8-2.07 0-2.86zM5.41 20L4 18.59l7.72-7.72 1.47 1.35L5.41 20z\"/>\n",
              "  </svg>\n",
              "      </button>\n",
              "      \n",
              "  <style>\n",
              "    .colab-df-container {\n",
              "      display:flex;\n",
              "      flex-wrap:wrap;\n",
              "      gap: 12px;\n",
              "    }\n",
              "\n",
              "    .colab-df-convert {\n",
              "      background-color: #E8F0FE;\n",
              "      border: none;\n",
              "      border-radius: 50%;\n",
              "      cursor: pointer;\n",
              "      display: none;\n",
              "      fill: #1967D2;\n",
              "      height: 32px;\n",
              "      padding: 0 0 0 0;\n",
              "      width: 32px;\n",
              "    }\n",
              "\n",
              "    .colab-df-convert:hover {\n",
              "      background-color: #E2EBFA;\n",
              "      box-shadow: 0px 1px 2px rgba(60, 64, 67, 0.3), 0px 1px 3px 1px rgba(60, 64, 67, 0.15);\n",
              "      fill: #174EA6;\n",
              "    }\n",
              "\n",
              "    [theme=dark] .colab-df-convert {\n",
              "      background-color: #3B4455;\n",
              "      fill: #D2E3FC;\n",
              "    }\n",
              "\n",
              "    [theme=dark] .colab-df-convert:hover {\n",
              "      background-color: #434B5C;\n",
              "      box-shadow: 0px 1px 3px 1px rgba(0, 0, 0, 0.15);\n",
              "      filter: drop-shadow(0px 1px 2px rgba(0, 0, 0, 0.3));\n",
              "      fill: #FFFFFF;\n",
              "    }\n",
              "  </style>\n",
              "\n",
              "      <script>\n",
              "        const buttonEl =\n",
              "          document.querySelector('#df-59f1c7e0-03b8-4bf7-a6e8-5a5218cb12ed button.colab-df-convert');\n",
              "        buttonEl.style.display =\n",
              "          google.colab.kernel.accessAllowed ? 'block' : 'none';\n",
              "\n",
              "        async function convertToInteractive(key) {\n",
              "          const element = document.querySelector('#df-59f1c7e0-03b8-4bf7-a6e8-5a5218cb12ed');\n",
              "          const dataTable =\n",
              "            await google.colab.kernel.invokeFunction('convertToInteractive',\n",
              "                                                     [key], {});\n",
              "          if (!dataTable) return;\n",
              "\n",
              "          const docLinkHtml = 'Like what you see? Visit the ' +\n",
              "            '<a target=\"_blank\" href=https://colab.research.google.com/notebooks/data_table.ipynb>data table notebook</a>'\n",
              "            + ' to learn more about interactive tables.';\n",
              "          element.innerHTML = '';\n",
              "          dataTable['output_type'] = 'display_data';\n",
              "          await google.colab.output.renderOutput(dataTable, element);\n",
              "          const docLink = document.createElement('div');\n",
              "          docLink.innerHTML = docLinkHtml;\n",
              "          element.appendChild(docLink);\n",
              "        }\n",
              "      </script>\n",
              "    </div>\n",
              "  </div>\n",
              "  "
            ],
            "text/plain": [
              "                                               variant  count\n",
              "0                                         Inbound Call   2449\n",
              "1                            Inbound Call,Inbound Call    266\n",
              "2                             Inbound Call,Handle Case    111\n",
              "3            Inbound Email,Email Outbound,Handle Email     86\n",
              "4               Inbound Call,Inbound Call,Inbound Call     59\n",
              "..                                                 ...    ...\n",
              "399  Call Outbound,Call Outbound,Call Outbound,Call...      1\n",
              "400  Call Outbound,Call Outbound,Call Outbound,Call...      1\n",
              "401  Call Outbound,Call Outbound,Call Outbound,Call...      1\n",
              "402  Call Outbound,Call Outbound,Call Outbound,Call...      1\n",
              "403          Call Outbound,Call Outbound,Call Outbound      1\n",
              "\n",
              "[404 rows x 2 columns]"
            ]
          },
          "metadata": {},
          "execution_count": 6
        }
      ]
    },
    {
      "cell_type": "code",
      "metadata": {
        "colab": {
          "base_uri": "https://localhost:8080/",
          "height": 576
        },
        "id": "4IPj73Cm3_1w",
        "outputId": "3a320822-f493-40e5-f40e-0cb5ac34259a"
      },
      "source": [
        "# Prepare the dimensions to plot\n",
        "# Put variants and counts into lists of prefered length\n",
        "\n",
        "variant =variants_df.head(100).index\n",
        "frequency = variants_df['count'].head(100)\n",
        "print(frequency)\n",
        "# return a list of log values from a list \n",
        "frequency_log = [math.log(i, 2) for i in frequency] \n",
        "#print(frequency)\n",
        "#print(frequency_log)\n",
        "\n",
        "# Plot the histogram of the frequencies\n",
        "\n",
        "fig = plt.figure(figsize = (15, 5))\n",
        " \n",
        "# creating the bar plot\n",
        "plt.bar(variant, frequency_log, color ='orange',\n",
        "        width = 0.4)\n",
        " \n",
        "plt.xlabel(\"variants sorted by frequency\")\n",
        "plt.ylabel(\"frequency\")\n",
        "plt.title(\"bar chart of variants frequency\")\n",
        "#plt.show()\n",
        "\n",
        "# Convert the string of activites in a variant to a list \n",
        "print(String2List(variants_df['variant'][2],\",\"))"
      ],
      "execution_count": 7,
      "outputs": [
        {
          "output_type": "stream",
          "name": "stdout",
          "text": [
            "0     2449\n",
            "1      266\n",
            "2      111\n",
            "3       86\n",
            "4       59\n",
            "      ... \n",
            "95       2\n",
            "96       2\n",
            "97       2\n",
            "98       2\n",
            "99       2\n",
            "Name: count, Length: 100, dtype: int64\n",
            "['Inbound Call', 'Handle Case']\n"
          ]
        },
        {
          "output_type": "display_data",
          "data": {
            "image/png": "[encoded data removed]",
            "text/plain": [
              "<Figure size 1080x360 with 1 Axes>"
            ]
          },
          "metadata": {
            "needs_background": "light"
          }
        }
      ]
    },
    {
      "cell_type": "code",
      "metadata": {
        "colab": {
          "base_uri": "https://localhost:8080/",
          "height": 282
        },
        "id": "FOuWWmQU4epm",
        "outputId": "bcc2abc1-e200-469f-c688-cb8943c5e18f"
      },
      "source": [
        "\n",
        "%matplotlib inline\n",
        "  \n",
        "data= variants_df['count']\n",
        "\n",
        "# getting data of the histogram\n",
        "count, bins_count = np.histogram(data, bins=100)\n",
        "  \n",
        "# finding the PDF of the histogram using count values\n",
        "pdf = count / sum(count)\n",
        "  \n",
        "# using numpy np.cumsum to calculate the CDF\n",
        "# We can also find using the PDF values by looping and adding\n",
        "cdf = np.cumsum(pdf)\n",
        "  \n",
        "# plotting PDF and CDF\n",
        "plt.plot(bins_count[1:], pdf, color=\"red\", label=\"PDF\")\n",
        "plt.plot(bins_count[1:], cdf, label=\"CDF\")\n",
        "plt.legend()"
      ],
      "execution_count": 8,
      "outputs": [
        {
          "output_type": "execute_result",
          "data": {
            "text/plain": [
              "<matplotlib.legend.Legend at 0x7f5e5eff5990>"
            ]
          },
          "metadata": {},
          "execution_count": 8
        },
        {
          "output_type": "display_data",
          "data": {
            "image/png": "[encoded data removed]",
            "text/plain": [
              "<Figure size 432x288 with 1 Axes>"
            ]
          },
          "metadata": {
            "needs_background": "light"
          }
        }
      ]
    },
    {
      "cell_type": "code",
      "metadata": {
        "colab": {
          "base_uri": "https://localhost:8080/",
          "height": 510
        },
        "id": "Ip8KHw_CDKYA",
        "outputId": "7b4b1a33-c48e-438c-dff0-b4043384eabd"
      },
      "source": [
        "# Fileter the log based on a specific variant\n",
        "\n",
        "from pm4py.algo.filtering.log.attributes import attributes_filter\n",
        "\n",
        "# Get the list of activities of a variant, variants are indexed based on frequency rank \n",
        "att = String2List(variants_df['variant'][0],\",\")\n",
        "variants_df['variant'][0]\n",
        "# Filter based on a list of atribites \n",
        "# used for getting the events connected to a specific list of activities i.e. a variant\n",
        "# PROBLEM the elements in the lsit are filterd in conjunctive way \n",
        "tracefilter_log_pos = attributes_filter.apply(event_log, variants_df['variant'][0],\n",
        "                                          parameters={attributes_filter.Parameters.ATTRIBUTE_KEY: \"concept:name\", attributes_filter.Parameters.POSITIVE: True})\n",
        "print(variants_df['variant'][0])\n",
        "print(event_log)\n",
        "#print(tracefilter_log_pos)\n",
        "#print(len(tracefilter_log_pos)) # it provides the number of events involve in the filtered cases\n",
        "\n",
        "# Convert Event log to Data Frame\n",
        "\n",
        "data_log = log_converter.apply(tracefilter_log_pos, variant=log_converter.Variants.TO_DATA_FRAME)\n",
        "\n",
        "profile = data_log.groupby('case:concept:name').agg(\n",
        "Activity = ('concept:name', 'count'),\\\n",
        "Activity_list = ('concept:name', lambda x: ', '.join(x)),\\\n",
        "# Count distinct values\n",
        "Resource = ('org:resource', 'nunique'),\\\n",
        "# Delta of a column\n",
        "Delta_start_time = ('start_timestamp', lambda x: x.max() - x.min()),\\\n",
        ")\n",
        "\n",
        "#pd.set_option('display.max_columns', 20) # print more columns \n",
        "#print(profile.head())\n",
        "profile"
      ],
      "execution_count": 11,
      "outputs": [
        {
          "output_type": "stream",
          "name": "stdout",
          "text": [
            "Inbound Call\n",
            "[{'attributes': {'concept:name': 'Case 2234'}, 'events': [{'concept:name': 'Inbound Email', 'start_timestamp': Timestamp('2010-01-03 01:05:00+0000', tz='UTC'), 'time:timestamp': Timestamp('2010-04-03 08:24:00+0000', tz='UTC'), 'Agent Position': 'FL', 'Customer ID': 'Customer 1878', 'Topic': 'Queries', 'Service Type': 'Product Assistance', 'org:resource': 'Samuil'}, '..', {'concept:name': 'Handle Case', 'start_timestamp': Timestamp('2010-04-03 11:23:00+0000', tz='UTC'), 'time:timestamp': Timestamp('2010-04-03 11:23:00+0000', tz='UTC'), 'Agent Position': 'FL', 'Customer ID': 'Customer 1878', 'Topic': 'Queries', 'Service Type': 'Product Assistance', 'org:resource': 'Samuil'}]}, '....', {'attributes': {'concept:name': 'Case 3667'}, 'events': [{'concept:name': 'Inbound Call', 'start_timestamp': Timestamp('2010-12-03 17:56:00+0000', tz='UTC'), 'time:timestamp': Timestamp('2010-12-03 17:58:00+0000', tz='UTC'), 'Agent Position': 'FL', 'Customer ID': 'Customer 3055', 'Topic': 'Reservations Pro', 'Service Type': 'Referred to Servicer', 'org:resource': 'Christian', 'case:concept:name': 'Case 3667'}]}]\n"
          ]
        },
        {
          "output_type": "execute_result",
          "data": {
            "text/html": [
              "\n",
              "  <div id=\"df-51f76166-0f67-4484-8b38-11208c274350\">\n",
              "    <div class=\"colab-df-container\">\n",
              "      <div>\n",
              "<style scoped>\n",
              "    .dataframe tbody tr th:only-of-type {\n",
              "        vertical-align: middle;\n",
              "    }\n",
              "\n",
              "    .dataframe tbody tr th {\n",
              "        vertical-align: top;\n",
              "    }\n",
              "\n",
              "    .dataframe thead th {\n",
              "        text-align: right;\n",
              "    }\n",
              "</style>\n",
              "<table border=\"1\" class=\"dataframe\">\n",
              "  <thead>\n",
              "    <tr style=\"text-align: right;\">\n",
              "      <th></th>\n",
              "      <th>Activity</th>\n",
              "      <th>Activity_list</th>\n",
              "      <th>Resource</th>\n",
              "      <th>Delta_start_time</th>\n",
              "    </tr>\n",
              "    <tr>\n",
              "      <th>case:concept:name</th>\n",
              "      <th></th>\n",
              "      <th></th>\n",
              "      <th></th>\n",
              "      <th></th>\n",
              "    </tr>\n",
              "  </thead>\n",
              "  <tbody>\n",
              "    <tr>\n",
              "      <th>Case 1</th>\n",
              "      <td>3</td>\n",
              "      <td>Inbound Call, Handle Case, Call Outbound</td>\n",
              "      <td>2</td>\n",
              "      <td>61 days 03:40:00</td>\n",
              "    </tr>\n",
              "    <tr>\n",
              "      <th>Case 100</th>\n",
              "      <td>1</td>\n",
              "      <td>Inbound Call</td>\n",
              "      <td>1</td>\n",
              "      <td>0 days 00:00:00</td>\n",
              "    </tr>\n",
              "    <tr>\n",
              "      <th>Case 1000</th>\n",
              "      <td>3</td>\n",
              "      <td>Inbound Call, Handle Case, Handle Case</td>\n",
              "      <td>1</td>\n",
              "      <td>0 days 00:04:00</td>\n",
              "    </tr>\n",
              "    <tr>\n",
              "      <th>Case 1001</th>\n",
              "      <td>1</td>\n",
              "      <td>Inbound Call</td>\n",
              "      <td>1</td>\n",
              "      <td>0 days 00:00:00</td>\n",
              "    </tr>\n",
              "    <tr>\n",
              "      <th>Case 1002</th>\n",
              "      <td>2</td>\n",
              "      <td>Inbound Call, Call Outbound</td>\n",
              "      <td>1</td>\n",
              "      <td>30 days 21:03:00</td>\n",
              "    </tr>\n",
              "    <tr>\n",
              "      <th>...</th>\n",
              "      <td>...</td>\n",
              "      <td>...</td>\n",
              "      <td>...</td>\n",
              "      <td>...</td>\n",
              "    </tr>\n",
              "    <tr>\n",
              "      <th>Case 995</th>\n",
              "      <td>1</td>\n",
              "      <td>Inbound Call</td>\n",
              "      <td>1</td>\n",
              "      <td>0 days 00:00:00</td>\n",
              "    </tr>\n",
              "    <tr>\n",
              "      <th>Case 996</th>\n",
              "      <td>3</td>\n",
              "      <td>Inbound Call, Inbound Call, Inbound Call</td>\n",
              "      <td>2</td>\n",
              "      <td>75 days 00:52:00</td>\n",
              "    </tr>\n",
              "    <tr>\n",
              "      <th>Case 997</th>\n",
              "      <td>2</td>\n",
              "      <td>Inbound Call, Inbound Call</td>\n",
              "      <td>2</td>\n",
              "      <td>0 days 08:11:00</td>\n",
              "    </tr>\n",
              "    <tr>\n",
              "      <th>Case 998</th>\n",
              "      <td>1</td>\n",
              "      <td>Inbound Call</td>\n",
              "      <td>1</td>\n",
              "      <td>0 days 00:00:00</td>\n",
              "    </tr>\n",
              "    <tr>\n",
              "      <th>Case 999</th>\n",
              "      <td>1</td>\n",
              "      <td>Inbound Call</td>\n",
              "      <td>1</td>\n",
              "      <td>0 days 00:00:00</td>\n",
              "    </tr>\n",
              "  </tbody>\n",
              "</table>\n",
              "<p>3342 rows × 4 columns</p>\n",
              "</div>\n",
              "      <button class=\"colab-df-convert\" onclick=\"convertToInteractive('df-51f76166-0f67-4484-8b38-11208c274350')\"\n",
              "              title=\"Convert this dataframe to an interactive table.\"\n",
              "              style=\"display:none;\">\n",
              "        \n",
              "  <svg xmlns=\"http://www.w3.org/2000/svg\" height=\"24px\"viewBox=\"0 0 24 24\"\n",
              "       width=\"24px\">\n",
              "    <path d=\"M0 0h24v24H0V0z\" fill=\"none\"/>\n",
              "    <path d=\"M18.56 5.44l.94 2.06.94-2.06 2.06-.94-2.06-.94-.94-2.06-.94 2.06-2.06.94zm-11 1L8.5 8.5l.94-2.06 2.06-.94-2.06-.94L8.5 2.5l-.94 2.06-2.06.94zm10 10l.94 2.06.94-2.06 2.06-.94-2.06-.94-.94-2.06-.94 2.06-2.06.94z\"/><path d=\"M17.41 7.96l-1.37-1.37c-.4-.4-.92-.59-1.43-.59-.52 0-1.04.2-1.43.59L10.3 9.45l-7.72 7.72c-.78.78-.78 2.05 0 2.83L4 21.41c.39.39.9.59 1.41.59.51 0 1.02-.2 1.41-.59l7.78-7.78 2.81-2.81c.8-.78.8-2.07 0-2.86zM5.41 20L4 18.59l7.72-7.72 1.47 1.35L5.41 20z\"/>\n",
              "  </svg>\n",
              "      </button>\n",
              "      \n",
              "  <style>\n",
              "    .colab-df-container {\n",
              "      display:flex;\n",
              "      flex-wrap:wrap;\n",
              "      gap: 12px;\n",
              "    }\n",
              "\n",
              "    .colab-df-convert {\n",
              "      background-color: #E8F0FE;\n",
              "      border: none;\n",
              "      border-radius: 50%;\n",
              "      cursor: pointer;\n",
              "      display: none;\n",
              "      fill: #1967D2;\n",
              "      height: 32px;\n",
              "      padding: 0 0 0 0;\n",
              "      width: 32px;\n",
              "    }\n",
              "\n",
              "    .colab-df-convert:hover {\n",
              "      background-color: #E2EBFA;\n",
              "      box-shadow: 0px 1px 2px rgba(60, 64, 67, 0.3), 0px 1px 3px 1px rgba(60, 64, 67, 0.15);\n",
              "      fill: #174EA6;\n",
              "    }\n",
              "\n",
              "    [theme=dark] .colab-df-convert {\n",
              "      background-color: #3B4455;\n",
              "      fill: #D2E3FC;\n",
              "    }\n",
              "\n",
              "    [theme=dark] .colab-df-convert:hover {\n",
              "      background-color: #434B5C;\n",
              "      box-shadow: 0px 1px 3px 1px rgba(0, 0, 0, 0.15);\n",
              "      filter: drop-shadow(0px 1px 2px rgba(0, 0, 0, 0.3));\n",
              "      fill: #FFFFFF;\n",
              "    }\n",
              "  </style>\n",
              "\n",
              "      <script>\n",
              "        const buttonEl =\n",
              "          document.querySelector('#df-51f76166-0f67-4484-8b38-11208c274350 button.colab-df-convert');\n",
              "        buttonEl.style.display =\n",
              "          google.colab.kernel.accessAllowed ? 'block' : 'none';\n",
              "\n",
              "        async function convertToInteractive(key) {\n",
              "          const element = document.querySelector('#df-51f76166-0f67-4484-8b38-11208c274350');\n",
              "          const dataTable =\n",
              "            await google.colab.kernel.invokeFunction('convertToInteractive',\n",
              "                                                     [key], {});\n",
              "          if (!dataTable) return;\n",
              "\n",
              "          const docLinkHtml = 'Like what you see? Visit the ' +\n",
              "            '<a target=\"_blank\" href=https://colab.research.google.com/notebooks/data_table.ipynb>data table notebook</a>'\n",
              "            + ' to learn more about interactive tables.';\n",
              "          element.innerHTML = '';\n",
              "          dataTable['output_type'] = 'display_data';\n",
              "          await google.colab.output.renderOutput(dataTable, element);\n",
              "          const docLink = document.createElement('div');\n",
              "          docLink.innerHTML = docLinkHtml;\n",
              "          element.appendChild(docLink);\n",
              "        }\n",
              "      </script>\n",
              "    </div>\n",
              "  </div>\n",
              "  "
            ],
            "text/plain": [
              "                   Activity  ... Delta_start_time\n",
              "case:concept:name            ...                 \n",
              "Case 1                    3  ... 61 days 03:40:00\n",
              "Case 100                  1  ...  0 days 00:00:00\n",
              "Case 1000                 3  ...  0 days 00:04:00\n",
              "Case 1001                 1  ...  0 days 00:00:00\n",
              "Case 1002                 2  ... 30 days 21:03:00\n",
              "...                     ...  ...              ...\n",
              "Case 995                  1  ...  0 days 00:00:00\n",
              "Case 996                  3  ... 75 days 00:52:00\n",
              "Case 997                  2  ...  0 days 08:11:00\n",
              "Case 998                  1  ...  0 days 00:00:00\n",
              "Case 999                  1  ...  0 days 00:00:00\n",
              "\n",
              "[3342 rows x 4 columns]"
            ]
          },
          "metadata": {},
          "execution_count": 11
        }
      ]
    },
    {
      "cell_type": "code",
      "metadata": {
        "colab": {
          "base_uri": "https://localhost:8080/",
          "height": 350
        },
        "id": "mvQRU9DuDMXh",
        "outputId": "b2d12e1e-26d2-4ca2-9f5a-63a25420715a"
      },
      "source": [
        "# Transform duration in a number \n",
        "profile['Duration'] = [i.total_seconds() for i in profile['Delta_start_time']]\n",
        "\n",
        "# Order by a coulumn \n",
        "profile = profile.sort_values([\"Duration\"], ascending = (False))\n",
        "\n",
        "# Prepare the dimensions to plot\n",
        "case = profile.head(400).index\n",
        "duration = profile['Duration'].head(400)\n",
        "\n",
        "# Plot the histogram of the durations\n",
        "\n",
        "fig = plt.figure(figsize = (15, 5))\n",
        " \n",
        "# creating the bar plot\n",
        "plt.bar(case, duration, color ='red',\n",
        "        width = 0.4)\n",
        " \n",
        "plt.xlabel(\"cases sorted by duration\")\n",
        "plt.ylabel(\"duration\")\n",
        "plt.title(\"bar chart of cases duration\")\n",
        "plt.show()\n"
      ],
      "execution_count": null,
      "outputs": [
        {
          "output_type": "display_data",
          "data": {
            "image/png": "[encoded data removed]",
            "text/plain": [
              "<Figure size 1080x360 with 1 Axes>"
            ]
          },
          "metadata": {
            "needs_background": "light"
          }
        }
      ]
    },
    {
      "cell_type": "code",
      "metadata": {
        "colab": {
          "base_uri": "https://localhost:8080/",
          "height": 516
        },
        "id": "UO23TyqK91iB",
        "outputId": "241e0eae-7f68-4bca-9f0f-206f07a75002"
      },
      "source": [
        "\n",
        "print(profile['Duration'])\n",
        "\n",
        "%matplotlib inline\n",
        "  \n",
        "data= profile['Duration']\n",
        "\n",
        "# getting data of the histogram\n",
        "count, bins_count = np.histogram(data, bins=50)\n",
        "  \n",
        "# finding the PDF of the histogram using count values\n",
        "pdf = count / sum(count)\n",
        "  \n",
        "# using numpy np.cumsum to calculate the CDF\n",
        "# We can also find using the PDF values by looping and adding\n",
        "cdf = np.cumsum(pdf)\n",
        "  \n",
        "# plotting PDF and CDF\n",
        "plt.plot(bins_count[1:], pdf, color=\"red\", label=\"PDF\")\n",
        "plt.plot(bins_count[1:], cdf, label=\"CDF\")\n",
        "plt.legend()"
      ],
      "execution_count": null,
      "outputs": [
        {
          "output_type": "stream",
          "name": "stdout",
          "text": [
            "case:concept:name\n",
            "Case 3478    28862460.0\n",
            "Case 2999    28848180.0\n",
            "Case 2882    28842600.0\n",
            "Case 2409    28795440.0\n",
            "Case 3572    28777680.0\n",
            "                ...    \n",
            "Case 2603           0.0\n",
            "Case 1399           0.0\n",
            "Case 2605           0.0\n",
            "Case 2607           0.0\n",
            "Case 999            0.0\n",
            "Name: Duration, Length: 3342, dtype: float64\n"
          ]
        },
        {
          "output_type": "execute_result",
          "data": {
            "text/plain": [
              "<matplotlib.legend.Legend at 0x7fe75fde9d10>"
            ]
          },
          "metadata": {},
          "execution_count": 11
        },
        {
          "output_type": "display_data",
          "data": {
            "image/png": "[encoded data removed]",
            "text/plain": [
              "<Figure size 432x288 with 1 Axes>"
            ]
          },
          "metadata": {
            "needs_background": "light"
          }
        }
      ]
    },
    {
      "cell_type": "code",
      "metadata": {
        "colab": {
          "base_uri": "https://localhost:8080/",
          "height": 450
        },
        "id": "rtUgmtnrZ6Cb",
        "outputId": "55d6b1ea-cb93-4a9c-d26e-bcd3c97f4f06"
      },
      "source": [
        "# Get the list of activities of a variant, variants are indexed based on frequency rank \n",
        "att = variants_df['variant'][3]\n",
        "att = att.replace(',', ', ') # required to have the exach match when filtering the profile\n",
        "\n",
        "# Generate a event log containing all the variants in the dictionary variants\n",
        "filtered_log1 = variants_filter.apply(event_log, variants)\n",
        "\n",
        "# Convert Event log to Data Frame\n",
        "\n",
        "data_log = log_converter.apply(filtered_log1, variant=log_converter.Variants.TO_DATA_FRAME)\n",
        "\n",
        "profile = data_log.groupby('case:concept:name').agg(\n",
        "Activity = ('concept:name', 'count'),\\\n",
        "Activity_list = ('concept:name', lambda x: ', '.join(x)),\\\n",
        "# Count distinct values\n",
        "Resource = ('org:resource', 'nunique'),\\\n",
        "# Delta of a column\n",
        "Delta_start_time = ('start_timestamp', lambda x: x.max() - x.min()),\\\n",
        ")\n",
        "\n",
        "#pd.set_option('display.max_columns', 20) # print more columns \n",
        "#print(profile.head())\n",
        "profile\n",
        "\n",
        "filtered_profile = profile.loc[profile['Activity_list'] == att]\n",
        "\n",
        "filtered_profile"
      ],
      "execution_count": null,
      "outputs": [
        {
          "output_type": "execute_result",
          "data": {
            "text/html": [
              "<div>\n",
              "<style scoped>\n",
              "    .dataframe tbody tr th:only-of-type {\n",
              "        vertical-align: middle;\n",
              "    }\n",
              "\n",
              "    .dataframe tbody tr th {\n",
              "        vertical-align: top;\n",
              "    }\n",
              "\n",
              "    .dataframe thead th {\n",
              "        text-align: right;\n",
              "    }\n",
              "</style>\n",
              "<table border=\"1\" class=\"dataframe\">\n",
              "  <thead>\n",
              "    <tr style=\"text-align: right;\">\n",
              "      <th></th>\n",
              "      <th>Activity</th>\n",
              "      <th>Activity_list</th>\n",
              "      <th>Resource</th>\n",
              "      <th>Delta_start_time</th>\n",
              "    </tr>\n",
              "    <tr>\n",
              "      <th>case:concept:name</th>\n",
              "      <th></th>\n",
              "      <th></th>\n",
              "      <th></th>\n",
              "      <th></th>\n",
              "    </tr>\n",
              "  </thead>\n",
              "  <tbody>\n",
              "    <tr>\n",
              "      <th>Case 1022</th>\n",
              "      <td>3</td>\n",
              "      <td>Inbound Email, Email Outbound, Handle Email</td>\n",
              "      <td>1</td>\n",
              "      <td>91 days 18:21:00</td>\n",
              "    </tr>\n",
              "    <tr>\n",
              "      <th>Case 110</th>\n",
              "      <td>3</td>\n",
              "      <td>Inbound Email, Email Outbound, Handle Email</td>\n",
              "      <td>1</td>\n",
              "      <td>0 days 20:34:00</td>\n",
              "    </tr>\n",
              "    <tr>\n",
              "      <th>Case 1109</th>\n",
              "      <td>3</td>\n",
              "      <td>Inbound Email, Email Outbound, Handle Email</td>\n",
              "      <td>1</td>\n",
              "      <td>61 days 03:45:00</td>\n",
              "    </tr>\n",
              "    <tr>\n",
              "      <th>Case 1205</th>\n",
              "      <td>3</td>\n",
              "      <td>Inbound Email, Email Outbound, Handle Email</td>\n",
              "      <td>1</td>\n",
              "      <td>60 days 21:25:00</td>\n",
              "    </tr>\n",
              "    <tr>\n",
              "      <th>Case 1206</th>\n",
              "      <td>3</td>\n",
              "      <td>Inbound Email, Email Outbound, Handle Email</td>\n",
              "      <td>1</td>\n",
              "      <td>61 days 01:05:00</td>\n",
              "    </tr>\n",
              "    <tr>\n",
              "      <th>...</th>\n",
              "      <td>...</td>\n",
              "      <td>...</td>\n",
              "      <td>...</td>\n",
              "      <td>...</td>\n",
              "    </tr>\n",
              "    <tr>\n",
              "      <th>Case 852</th>\n",
              "      <td>3</td>\n",
              "      <td>Inbound Email, Email Outbound, Handle Email</td>\n",
              "      <td>1</td>\n",
              "      <td>2 days 00:52:00</td>\n",
              "    </tr>\n",
              "    <tr>\n",
              "      <th>Case 877</th>\n",
              "      <td>3</td>\n",
              "      <td>Inbound Email, Email Outbound, Handle Email</td>\n",
              "      <td>1</td>\n",
              "      <td>1 days 11:55:00</td>\n",
              "    </tr>\n",
              "    <tr>\n",
              "      <th>Case 880</th>\n",
              "      <td>3</td>\n",
              "      <td>Inbound Email, Email Outbound, Handle Email</td>\n",
              "      <td>1</td>\n",
              "      <td>0 days 17:27:00</td>\n",
              "    </tr>\n",
              "    <tr>\n",
              "      <th>Case 883</th>\n",
              "      <td>3</td>\n",
              "      <td>Inbound Email, Email Outbound, Handle Email</td>\n",
              "      <td>1</td>\n",
              "      <td>91 days 18:40:00</td>\n",
              "    </tr>\n",
              "    <tr>\n",
              "      <th>Case 912</th>\n",
              "      <td>3</td>\n",
              "      <td>Inbound Email, Email Outbound, Handle Email</td>\n",
              "      <td>1</td>\n",
              "      <td>91 days 21:04:00</td>\n",
              "    </tr>\n",
              "  </tbody>\n",
              "</table>\n",
              "<p>86 rows × 4 columns</p>\n",
              "</div>"
            ],
            "text/plain": [
              "                   Activity  ... Delta_start_time\n",
              "case:concept:name            ...                 \n",
              "Case 1022                 3  ... 91 days 18:21:00\n",
              "Case 110                  3  ...  0 days 20:34:00\n",
              "Case 1109                 3  ... 61 days 03:45:00\n",
              "Case 1205                 3  ... 60 days 21:25:00\n",
              "Case 1206                 3  ... 61 days 01:05:00\n",
              "...                     ...  ...              ...\n",
              "Case 852                  3  ...  2 days 00:52:00\n",
              "Case 877                  3  ...  1 days 11:55:00\n",
              "Case 880                  3  ...  0 days 17:27:00\n",
              "Case 883                  3  ... 91 days 18:40:00\n",
              "Case 912                  3  ... 91 days 21:04:00\n",
              "\n",
              "[86 rows x 4 columns]"
            ]
          },
          "metadata": {},
          "execution_count": 12
        }
      ]
    },
    {
      "cell_type": "code",
      "metadata": {
        "id": "qr9uxraz8Xqk",
        "colab": {
          "base_uri": "https://localhost:8080/",
          "height": 467
        },
        "outputId": "e96fd2e1-0773-4c10-9840-2a320862bdf5"
      },
      "source": [
        "# Create a new profile to observe the average duration of cases in a variant\n",
        "\n",
        "# Include Case ID as a column, previously it was just an idnex \n",
        "profile['CaseID'] = profile.index\n",
        "\n",
        "# Transform duration in a number \n",
        "profile['Duration'] = [i.total_seconds() for i in profile['Delta_start_time']]\n",
        "\n",
        "#print(profile)\n",
        "\n",
        "profile_variants = profile.groupby('Activity_list').agg(\n",
        "Avg_Activity = ('Activity', 'mean'),\\\n",
        "# Count distinct values\n",
        "Cases = ('CaseID', 'nunique'),\\\n",
        "Avg_Resource = ('Resource', 'mean'),\\\n",
        "# Delta of a column\n",
        "Avg_Delta_start_time = ('Duration', 'mean'),\\\n",
        "Std_Delta_start_time = ('Duration', 'std'),\\\n",
        ")\n",
        "\n",
        "profile_variants.sort_values([\"Cases\"], ascending = (False))\n"
      ],
      "execution_count": null,
      "outputs": [
        {
          "output_type": "execute_result",
          "data": {
            "text/html": [
              "<div>\n",
              "<style scoped>\n",
              "    .dataframe tbody tr th:only-of-type {\n",
              "        vertical-align: middle;\n",
              "    }\n",
              "\n",
              "    .dataframe tbody tr th {\n",
              "        vertical-align: top;\n",
              "    }\n",
              "\n",
              "    .dataframe thead th {\n",
              "        text-align: right;\n",
              "    }\n",
              "</style>\n",
              "<table border=\"1\" class=\"dataframe\">\n",
              "  <thead>\n",
              "    <tr style=\"text-align: right;\">\n",
              "      <th></th>\n",
              "      <th>Avg_Activity</th>\n",
              "      <th>Cases</th>\n",
              "      <th>Avg_Resource</th>\n",
              "      <th>Avg_Delta_start_time</th>\n",
              "      <th>Std_Delta_start_time</th>\n",
              "    </tr>\n",
              "    <tr>\n",
              "      <th>Activity_list</th>\n",
              "      <th></th>\n",
              "      <th></th>\n",
              "      <th></th>\n",
              "      <th></th>\n",
              "      <th></th>\n",
              "    </tr>\n",
              "  </thead>\n",
              "  <tbody>\n",
              "    <tr>\n",
              "      <th>Inbound Call</th>\n",
              "      <td>1</td>\n",
              "      <td>2449</td>\n",
              "      <td>1.000000</td>\n",
              "      <td>0.000000e+00</td>\n",
              "      <td>0.000000e+00</td>\n",
              "    </tr>\n",
              "    <tr>\n",
              "      <th>Inbound Call, Inbound Call</th>\n",
              "      <td>2</td>\n",
              "      <td>266</td>\n",
              "      <td>1.890977</td>\n",
              "      <td>3.110271e+06</td>\n",
              "      <td>6.307244e+06</td>\n",
              "    </tr>\n",
              "    <tr>\n",
              "      <th>Inbound Call, Handle Case</th>\n",
              "      <td>2</td>\n",
              "      <td>111</td>\n",
              "      <td>1.405405</td>\n",
              "      <td>1.610850e+06</td>\n",
              "      <td>3.710265e+06</td>\n",
              "    </tr>\n",
              "    <tr>\n",
              "      <th>Inbound Email, Email Outbound, Handle Email</th>\n",
              "      <td>3</td>\n",
              "      <td>86</td>\n",
              "      <td>1.000000</td>\n",
              "      <td>2.648965e+06</td>\n",
              "      <td>3.173832e+06</td>\n",
              "    </tr>\n",
              "    <tr>\n",
              "      <th>Inbound Call, Inbound Call, Inbound Call</th>\n",
              "      <td>3</td>\n",
              "      <td>59</td>\n",
              "      <td>2.677966</td>\n",
              "      <td>4.202066e+06</td>\n",
              "      <td>6.374213e+06</td>\n",
              "    </tr>\n",
              "    <tr>\n",
              "      <th>...</th>\n",
              "      <td>...</td>\n",
              "      <td>...</td>\n",
              "      <td>...</td>\n",
              "      <td>...</td>\n",
              "      <td>...</td>\n",
              "    </tr>\n",
              "    <tr>\n",
              "      <th>Handle Email, Handle Case, Handle Case, Call Outbound, Inbound Call, Handle Case, Call Outbound, Call Outbound</th>\n",
              "      <td>8</td>\n",
              "      <td>1</td>\n",
              "      <td>5.000000</td>\n",
              "      <td>2.037558e+07</td>\n",
              "      <td>NaN</td>\n",
              "    </tr>\n",
              "    <tr>\n",
              "      <th>Handle Email, Handle Case, Handle Case</th>\n",
              "      <td>3</td>\n",
              "      <td>1</td>\n",
              "      <td>1.000000</td>\n",
              "      <td>1.140000e+03</td>\n",
              "      <td>NaN</td>\n",
              "    </tr>\n",
              "    <tr>\n",
              "      <th>Handle Email, Handle Case, Email Outbound, Inbound Email</th>\n",
              "      <td>4</td>\n",
              "      <td>1</td>\n",
              "      <td>1.000000</td>\n",
              "      <td>4.691820e+06</td>\n",
              "      <td>NaN</td>\n",
              "    </tr>\n",
              "    <tr>\n",
              "      <th>Handle Email, Email Outbound, Inbound Email, Email Outbound, Handle Email, Inbound Email</th>\n",
              "      <td>6</td>\n",
              "      <td>1</td>\n",
              "      <td>2.000000</td>\n",
              "      <td>2.289786e+07</td>\n",
              "      <td>NaN</td>\n",
              "    </tr>\n",
              "    <tr>\n",
              "      <th>Inbound Email, Inbound Email, Handle Email, Inbound Call</th>\n",
              "      <td>4</td>\n",
              "      <td>1</td>\n",
              "      <td>2.000000</td>\n",
              "      <td>5.274540e+06</td>\n",
              "      <td>NaN</td>\n",
              "    </tr>\n",
              "  </tbody>\n",
              "</table>\n",
              "<p>404 rows × 5 columns</p>\n",
              "</div>"
            ],
            "text/plain": [
              "                                                    Avg_Activity  ...  Std_Delta_start_time\n",
              "Activity_list                                                     ...                      \n",
              "Inbound Call                                                   1  ...          0.000000e+00\n",
              "Inbound Call, Inbound Call                                     2  ...          6.307244e+06\n",
              "Inbound Call, Handle Case                                      2  ...          3.710265e+06\n",
              "Inbound Email, Email Outbound, Handle Email                    3  ...          3.173832e+06\n",
              "Inbound Call, Inbound Call, Inbound Call                       3  ...          6.374213e+06\n",
              "...                                                          ...  ...                   ...\n",
              "Handle Email, Handle Case, Handle Case, Call Ou...             8  ...                   NaN\n",
              "Handle Email, Handle Case, Handle Case                         3  ...                   NaN\n",
              "Handle Email, Handle Case, Email Outbound, Inbo...             4  ...                   NaN\n",
              "Handle Email, Email Outbound, Inbound Email, Em...             6  ...                   NaN\n",
              "Inbound Email, Inbound Email, Handle Email, Inb...             4  ...                   NaN\n",
              "\n",
              "[404 rows x 5 columns]"
            ]
          },
          "metadata": {},
          "execution_count": 13
        }
      ]
    },
    {
      "cell_type": "code",
      "metadata": {
        "colab": {
          "base_uri": "https://localhost:8080/",
          "height": 207
        },
        "id": "PjOnb1G0FrlI",
        "outputId": "3d10af03-3688-49f8-d5d2-551451eed513"
      },
      "source": [
        "# Order by a coulumn \n",
        "profile_variants = profile_variants.sort_values([\"Avg_Delta_start_time\"], ascending = (False))\n",
        "\n",
        "# Prepare the dimensions to plot\n",
        "varaints = profile_variants.head(400).index\n",
        "avg_duration = profile_variants['Avg_Delta_start_time'].head(400)\n",
        "\n",
        "# Plot the histogram of the frequencies\n",
        "\n",
        "fig = plt.figure(figsize = (15, 5))\n",
        " \n",
        "# creating the bar plot\n",
        "plt.bar(varaints, avg_duration, color ='blue',\n",
        "        width = 0.4)\n",
        " \n",
        "plt.xlabel(\"variants sorted by average duration\")\n",
        "plt.ylabel(\"average duration\")\n",
        "plt.title(\"bar chart of variants average duration\")\n",
        "plt.show()"
      ],
      "execution_count": null,
      "outputs": [
        {
          "output_type": "display_data",
          "data": {
            "image/png": "[encoded data removed]",
            "text/plain": [
              "<Figure size 1080x360 with 1 Axes>"
            ]
          },
          "metadata": {
            "needs_background": "light"
          }
        }
      ]
    },
    {
      "cell_type": "code",
      "metadata": {
        "colab": {
          "base_uri": "https://localhost:8080/",
          "height": 295
        },
        "id": "FvdH9StE-R75",
        "outputId": "b20cf6cb-4f38-4881-9fef-2f8ae016196b"
      },
      "source": [
        "# Something in between Pareto and Normal distribution\n",
        "#print(profile_variants['Avg_Delta_start_time'].head(100))\n",
        "\n",
        "%matplotlib inline\n",
        "  \n",
        "data= profile_variants['Avg_Delta_start_time'].head(100)\n",
        "\n",
        "# getting data of the histogram\n",
        "count, bins_count = np.histogram(data, bins=100)\n",
        "  \n",
        "# finding the PDF of the histogram using count values\n",
        "pdf = count / sum(count)\n",
        "  \n",
        "# using numpy np.cumsum to calculate the CDF\n",
        "# We can also find using the PDF values by looping and adding\n",
        "cdf = np.cumsum(pdf)\n",
        "  \n",
        "# plotting PDF and CDF\n",
        "plt.plot(bins_count[1:], pdf, color=\"red\", label=\"PDF\")\n",
        "plt.plot(bins_count[1:], cdf, label=\"CDF\")\n",
        "plt.legend()"
      ],
      "execution_count": null,
      "outputs": [
        {
          "output_type": "execute_result",
          "data": {
            "text/plain": [
              "<matplotlib.legend.Legend at 0x7fe75f4e8890>"
            ]
          },
          "metadata": {},
          "execution_count": 15
        },
        {
          "output_type": "display_data",
          "data": {
            "image/png": "[encoded data removed]",
            "text/plain": [
              "<Figure size 432x288 with 1 Axes>"
            ]
          },
          "metadata": {
            "needs_background": "light"
          }
        }
      ]
    },
    {
      "cell_type": "code",
      "metadata": {
        "id": "SFNvDDe76Yto",
        "colab": {
          "base_uri": "https://localhost:8080/",
          "height": 419
        },
        "outputId": "60db98c6-9f66-4ae1-da85-ebb23783b748"
      },
      "source": [
        "# filter the most common variants\n",
        "\n",
        "#from pm4py.algo.filtering.log.variants import variants_filter\n",
        "\n",
        "# Count the cases per varaint \n",
        "\n",
        "#from pm4py.statistics.traces.generic.log import case_statistics\n",
        "\n",
        "#variants_countTopic = case_statistics.get_variant_statistics(event_log)\n",
        "#variants_count = sorted(variants_count, key=lambda x: x['count'], reverse=True)\n",
        "\n",
        "\n",
        "#print(variants)\n",
        "\n",
        "#print(variants_count)\n",
        "#filtered_log = variants_filter.filter_log_variants_percentage(event_log, percentage=)\n",
        "\n",
        "\n",
        "#filter_log = log_converter.apply(filtered_log, variant=log_converter.Variants.TO_DATA_FRAME)\n",
        "#filter_log"
      ],
      "execution_count": null,
      "outputs": [
        {
          "output_type": "execute_result",
          "data": {
            "text/html": [
              "<div>\n",
              "<style scoped>\n",
              "    .dataframe tbody tr th:only-of-type {\n",
              "        vertical-align: middle;\n",
              "    }\n",
              "\n",
              "    .dataframe tbody tr th {\n",
              "        vertical-align: top;\n",
              "    }\n",
              "\n",
              "    .dataframe thead th {\n",
              "        text-align: right;\n",
              "    }\n",
              "</style>\n",
              "<table border=\"1\" class=\"dataframe\">\n",
              "  <thead>\n",
              "    <tr style=\"text-align: right;\">\n",
              "      <th></th>\n",
              "      <th>concept:name</th>\n",
              "      <th>start_timestamp</th>\n",
              "      <th>time:timestamp</th>\n",
              "      <th>Agent Position</th>\n",
              "      <th>Customer ID</th>\n",
              "      <th>Topic</th>\n",
              "      <th>Service Type</th>\n",
              "      <th>org:resource</th>\n",
              "      <th>case:concept:name</th>\n",
              "    </tr>\n",
              "  </thead>\n",
              "  <tbody>\n",
              "    <tr>\n",
              "      <th>0</th>\n",
              "      <td>Inbound Call</td>\n",
              "      <td>2010-02-03 07:20:00+00:00</td>\n",
              "      <td>2010-02-03 07:44:00+00:00</td>\n",
              "      <td>FL</td>\n",
              "      <td>Customer 2428</td>\n",
              "      <td>Queries</td>\n",
              "      <td>Product Assistance</td>\n",
              "      <td>Kenny</td>\n",
              "      <td>Case 2890</td>\n",
              "    </tr>\n",
              "    <tr>\n",
              "      <th>1</th>\n",
              "      <td>Inbound Call</td>\n",
              "      <td>2010-02-03 07:57:00+00:00</td>\n",
              "      <td>2010-02-03 08:18:00+00:00</td>\n",
              "      <td>FL</td>\n",
              "      <td>Customer 857</td>\n",
              "      <td>Queries</td>\n",
              "      <td>Referred to Servicer</td>\n",
              "      <td>Kenny</td>\n",
              "      <td>Case 1024</td>\n",
              "    </tr>\n",
              "    <tr>\n",
              "      <th>2</th>\n",
              "      <td>Inbound Call</td>\n",
              "      <td>2010-02-03 07:58:00+00:00</td>\n",
              "      <td>2010-02-03 08:12:00+00:00</td>\n",
              "      <td>FL</td>\n",
              "      <td>Customer 549</td>\n",
              "      <td>Queries</td>\n",
              "      <td>Product Assistance</td>\n",
              "      <td>Johan</td>\n",
              "      <td>Case 650</td>\n",
              "    </tr>\n",
              "    <tr>\n",
              "      <th>3</th>\n",
              "      <td>Inbound Call</td>\n",
              "      <td>2010-02-03 08:20:00+00:00</td>\n",
              "      <td>2010-02-03 08:26:00+00:00</td>\n",
              "      <td>FL</td>\n",
              "      <td>Customer 1551</td>\n",
              "      <td>Queries</td>\n",
              "      <td>Product Assistance</td>\n",
              "      <td>Kenny</td>\n",
              "      <td>Case 1848</td>\n",
              "    </tr>\n",
              "    <tr>\n",
              "      <th>4</th>\n",
              "      <td>Inbound Call</td>\n",
              "      <td>2010-02-03 08:23:00+00:00</td>\n",
              "      <td>2010-02-03 08:24:00+00:00</td>\n",
              "      <td>FL</td>\n",
              "      <td>Customer 1890</td>\n",
              "      <td>Reservations Pro</td>\n",
              "      <td>Referred to Servicer</td>\n",
              "      <td>Johan</td>\n",
              "      <td>Case 2247</td>\n",
              "    </tr>\n",
              "    <tr>\n",
              "      <th>...</th>\n",
              "      <td>...</td>\n",
              "      <td>...</td>\n",
              "      <td>...</td>\n",
              "      <td>...</td>\n",
              "      <td>...</td>\n",
              "      <td>...</td>\n",
              "      <td>...</td>\n",
              "      <td>...</td>\n",
              "      <td>...</td>\n",
              "    </tr>\n",
              "    <tr>\n",
              "      <th>7543</th>\n",
              "      <td>Call Outbound</td>\n",
              "      <td>2010-03-27 09:46:00+00:00</td>\n",
              "      <td>2010-03-27 09:48:00+00:00</td>\n",
              "      <td>FL</td>\n",
              "      <td>Customer 3032</td>\n",
              "      <td>Queries</td>\n",
              "      <td>Referred to Servicer</td>\n",
              "      <td>Samuil</td>\n",
              "      <td>Case 3643</td>\n",
              "    </tr>\n",
              "    <tr>\n",
              "      <th>7544</th>\n",
              "      <td>Call Outbound</td>\n",
              "      <td>2010-03-27 11:53:00+00:00</td>\n",
              "      <td>2010-03-27 11:55:00+00:00</td>\n",
              "      <td>FL</td>\n",
              "      <td>Customer 3032</td>\n",
              "      <td>Queries</td>\n",
              "      <td>Referred to Servicer</td>\n",
              "      <td>Samuil</td>\n",
              "      <td>Case 3643</td>\n",
              "    </tr>\n",
              "    <tr>\n",
              "      <th>7545</th>\n",
              "      <td>Call Outbound</td>\n",
              "      <td>2010-07-03 11:52:00+00:00</td>\n",
              "      <td>2010-07-03 11:52:00+00:00</td>\n",
              "      <td>FL</td>\n",
              "      <td>Customer 2580</td>\n",
              "      <td>Queries</td>\n",
              "      <td>Referred to Servicer</td>\n",
              "      <td>Jochem</td>\n",
              "      <td>Case 3077</td>\n",
              "    </tr>\n",
              "    <tr>\n",
              "      <th>7546</th>\n",
              "      <td>Call Outbound</td>\n",
              "      <td>2010-07-03 11:55:00+00:00</td>\n",
              "      <td>2010-07-03 11:55:00+00:00</td>\n",
              "      <td>FL</td>\n",
              "      <td>Customer 2580</td>\n",
              "      <td>Queries</td>\n",
              "      <td>Referred to Servicer</td>\n",
              "      <td>Jochem</td>\n",
              "      <td>Case 3077</td>\n",
              "    </tr>\n",
              "    <tr>\n",
              "      <th>7547</th>\n",
              "      <td>Call Outbound</td>\n",
              "      <td>2010-07-03 14:13:00+00:00</td>\n",
              "      <td>2010-07-03 14:32:00+00:00</td>\n",
              "      <td>FL</td>\n",
              "      <td>Customer 2580</td>\n",
              "      <td>Queries</td>\n",
              "      <td>Referred to Servicer</td>\n",
              "      <td>Jochem</td>\n",
              "      <td>Case 3077</td>\n",
              "    </tr>\n",
              "  </tbody>\n",
              "</table>\n",
              "<p>7548 rows × 9 columns</p>\n",
              "</div>"
            ],
            "text/plain": [
              "       concept:name           start_timestamp  ... org:resource case:concept:name\n",
              "0      Inbound Call 2010-02-03 07:20:00+00:00  ...        Kenny         Case 2890\n",
              "1      Inbound Call 2010-02-03 07:57:00+00:00  ...        Kenny         Case 1024\n",
              "2      Inbound Call 2010-02-03 07:58:00+00:00  ...        Johan          Case 650\n",
              "3      Inbound Call 2010-02-03 08:20:00+00:00  ...        Kenny         Case 1848\n",
              "4      Inbound Call 2010-02-03 08:23:00+00:00  ...        Johan         Case 2247\n",
              "...             ...                       ...  ...          ...               ...\n",
              "7543  Call Outbound 2010-03-27 09:46:00+00:00  ...       Samuil         Case 3643\n",
              "7544  Call Outbound 2010-03-27 11:53:00+00:00  ...       Samuil         Case 3643\n",
              "7545  Call Outbound 2010-07-03 11:52:00+00:00  ...       Jochem         Case 3077\n",
              "7546  Call Outbound 2010-07-03 11:55:00+00:00  ...       Jochem         Case 3077\n",
              "7547  Call Outbound 2010-07-03 14:13:00+00:00  ...       Jochem         Case 3077\n",
              "\n",
              "[7548 rows x 9 columns]"
            ]
          },
          "metadata": {},
          "execution_count": 39
        }
      ]
    },
    {
      "cell_type": "code",
      "metadata": {
        "colab": {
          "base_uri": "https://localhost:8080/",
          "height": 130
        },
        "id": "BMVhYFNR-xLm",
        "outputId": "38d1185a-9fd5-4f7e-dc7b-f1ddf2d4c4a1"
      },
      "source": [
        "profile = log_csv.groupby('Topic').agg(\\\n",
        "       Topics = ('Topic', 'count'), \\                               \n",
        "                                       \n",
        "                                       \n",
        "                                       \n",
        ")\n",
        "\n",
        "print(profile)"
      ],
      "execution_count": null,
      "outputs": [
        {
          "output_type": "error",
          "ename": "SyntaxError",
          "evalue": "ignored",
          "traceback": [
            "\u001b[0;36m  File \u001b[0;32m\"<ipython-input-44-46033d8ff692>\"\u001b[0;36m, line \u001b[0;32m1\u001b[0m\n\u001b[0;31m    profile = log_csv.groupby('Topic').agg(          Topics = ('Topic', 'count'), \\\u001b[0m\n\u001b[0m                                                                                                                  ^\u001b[0m\n\u001b[0;31mSyntaxError\u001b[0m\u001b[0;31m:\u001b[0m unexpected character after line continuation character\n"
          ]
        }
      ]
    },
    {
      "cell_type": "code",
      "metadata": {
        "id": "eWY_1YGGBf8g"
      },
      "source": [
        ""
      ],
      "execution_count": null,
      "outputs": []
    },
    {
      "cell_type": "code",
      "metadata": {
        "id": "BxUEwvLKBfCj"
      },
      "source": [
        ""
      ],
      "execution_count": null,
      "outputs": []
    },
    {
      "cell_type": "code",
      "metadata": {
        "id": "KPaOAfITBcvG"
      },
      "source": [
        ""
      ],
      "execution_count": null,
      "outputs": []
    },
    {
      "cell_type": "code",
      "metadata": {
        "id": "R7ZBV9WkBYnm"
      },
      "source": [
        ""
      ],
      "execution_count": null,
      "outputs": []
    },
    {
      "cell_type": "code",
      "metadata": {
        "id": "d7p2lza2BU7e"
      },
      "source": [
        ""
      ],
      "execution_count": null,
      "outputs": []
    },
    {
      "cell_type": "code",
      "metadata": {
        "id": "gqiHAy3l-v4z"
      },
      "source": [
        ""
      ],
      "execution_count": null,
      "outputs": []
    },
    {
      "cell_type": "code",
      "metadata": {
        "id": "otfk1BRo-t7V"
      },
      "source": [
        ""
      ],
      "execution_count": null,
      "outputs": []
    },
    {
      "cell_type": "code",
      "metadata": {
        "id": "o8ieeNZk-rJP"
      },
      "source": [
        ""
      ],
      "execution_count": null,
      "outputs": []
    },
    {
      "cell_type": "code",
      "metadata": {
        "id": "i2YWdt2P-puY"
      },
      "source": [
        ""
      ],
      "execution_count": null,
      "outputs": []
    },
    {
      "cell_type": "code",
      "metadata": {
        "id": "7GDO6p4s-n9n"
      },
      "source": [
        ""
      ],
      "execution_count": null,
      "outputs": []
    },
    {
      "cell_type": "code",
      "metadata": {
        "id": "W6Vj00ob-h67"
      },
      "source": [
        ""
      ],
      "execution_count": null,
      "outputs": []
    },
    {
      "cell_type": "code",
      "metadata": {
        "id": "zJi5g-8R-BXU"
      },
      "source": [
        ""
      ],
      "execution_count": null,
      "outputs": []
    },
    {
      "cell_type": "code",
      "metadata": {
        "id": "WoFqu6sl90AC"
      },
      "source": [
        ""
      ],
      "execution_count": null,
      "outputs": []
    },
    {
      "cell_type": "code",
      "metadata": {
        "id": "-5gSWc1Y9e83"
      },
      "source": [
        ""
      ],
      "execution_count": null,
      "outputs": []
    },
    {
      "cell_type": "code",
      "metadata": {
        "id": "JJCZYFNi9bvM"
      },
      "source": [
        ""
      ],
      "execution_count": null,
      "outputs": []
    },
    {
      "cell_type": "code",
      "metadata": {
        "id": "YZRCK4e99APq"
      },
      "source": [
        ""
      ],
      "execution_count": null,
      "outputs": []
    },
    {
      "cell_type": "code",
      "metadata": {
        "id": "WZho3WWy8z0M"
      },
      "source": [
        ""
      ],
      "execution_count": null,
      "outputs": []
    },
    {
      "cell_type": "code",
      "metadata": {
        "id": "l1fK-Pak8xb6"
      },
      "source": [
        ""
      ],
      "execution_count": null,
      "outputs": []
    },
    {
      "cell_type": "code",
      "metadata": {
        "id": "wCL3AL738u75"
      },
      "source": [
        ""
      ],
      "execution_count": null,
      "outputs": []
    },
    {
      "cell_type": "code",
      "metadata": {
        "id": "07DSigGD8skF"
      },
      "source": [
        ""
      ],
      "execution_count": null,
      "outputs": []
    },
    {
      "cell_type": "code",
      "metadata": {
        "id": "g8mzL5MM8rfX"
      },
      "source": [
        ""
      ],
      "execution_count": null,
      "outputs": []
    },
    {
      "cell_type": "code",
      "metadata": {
        "id": "Q4zV9lzC8pVH"
      },
      "source": [
        ""
      ],
      "execution_count": null,
      "outputs": []
    },
    {
      "cell_type": "code",
      "metadata": {
        "id": "vbSJ_fkn8TxS"
      },
      "source": [
        ""
      ],
      "execution_count": null,
      "outputs": []
    },
    {
      "cell_type": "code",
      "metadata": {
        "id": "356fusX_8RQi"
      },
      "source": [
        ""
      ],
      "execution_count": null,
      "outputs": []
    },
    {
      "cell_type": "code",
      "metadata": {
        "id": "Sif9kwaw7w-x"
      },
      "source": [
        ""
      ],
      "execution_count": null,
      "outputs": []
    }
  ]
}